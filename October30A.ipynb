{
 "cells": [
  {
   "cell_type": "code",
   "execution_count": 1,
   "id": "cc31e8cf-57af-496f-9d65-d0f07f2e70b4",
   "metadata": {},
   "outputs": [],
   "source": [
    "#Create a list of 5 countries and save it as a CSV file."
   ]
  },
  {
   "cell_type": "code",
   "execution_count": 2,
   "id": "04fdced2-d791-4fe1-bb79-66c091fee9a1",
   "metadata": {},
   "outputs": [],
   "source": [
    "Country_list = [ 'India','China','Nepal','Germany','Russia']"
   ]
  },
  {
   "cell_type": "code",
   "execution_count": 3,
   "id": "56282a23-e501-4ee2-bde2-a65535428476",
   "metadata": {},
   "outputs": [
    {
     "data": {
      "text/plain": [
       "list"
      ]
     },
     "execution_count": 3,
     "metadata": {},
     "output_type": "execute_result"
    }
   ],
   "source": [
    "type(Country_list)"
   ]
  },
  {
   "cell_type": "code",
   "execution_count": 5,
   "id": "c0ff7035-2d5a-4ee5-a963-605f7855a800",
   "metadata": {},
   "outputs": [],
   "source": [
    "import pandas as pd"
   ]
  },
  {
   "cell_type": "code",
   "execution_count": 9,
   "id": "acecb8cb-3694-44ad-a205-c00a35c040e6",
   "metadata": {},
   "outputs": [],
   "source": [
    "abc = pd.Series(Country_list, name=\"Countryname\")"
   ]
  },
  {
   "cell_type": "code",
   "execution_count": 10,
   "id": "3928e0f2-26ed-4cdc-bad7-ca833b4e5b94",
   "metadata": {},
   "outputs": [
    {
     "data": {
      "text/plain": [
       "0      India\n",
       "1      China\n",
       "2      Nepal\n",
       "3    Germany\n",
       "4     Russia\n",
       "Name: Countryname, dtype: object"
      ]
     },
     "execution_count": 10,
     "metadata": {},
     "output_type": "execute_result"
    }
   ],
   "source": [
    "abc"
   ]
  },
  {
   "cell_type": "code",
   "execution_count": 11,
   "id": "9911dc75-1d5c-4a91-be86-c6b30b700e84",
   "metadata": {},
   "outputs": [
    {
     "data": {
      "text/plain": [
       "pandas.core.series.Series"
      ]
     },
     "execution_count": 11,
     "metadata": {},
     "output_type": "execute_result"
    }
   ],
   "source": [
    "type(abc)"
   ]
  },
  {
   "cell_type": "code",
   "execution_count": 21,
   "id": "f1de1372-dc17-40cb-87c7-d26eb7d20993",
   "metadata": {},
   "outputs": [],
   "source": [
    "abc.to_csv('country.csv',index = False )"
   ]
  },
  {
   "cell_type": "code",
   "execution_count": 22,
   "id": "7eacaef8-e0e0-4c8c-8db9-ac009afbb87c",
   "metadata": {},
   "outputs": [
    {
     "data": {
      "text/plain": [
       "pandas.core.series.Series"
      ]
     },
     "execution_count": 22,
     "metadata": {},
     "output_type": "execute_result"
    }
   ],
   "source": [
    "type(abc)"
   ]
  },
  {
   "cell_type": "code",
   "execution_count": 23,
   "id": "2548a623-c920-4901-94e1-0c34fc7d28d2",
   "metadata": {},
   "outputs": [],
   "source": [
    "df = abc.to_frame()"
   ]
  },
  {
   "cell_type": "code",
   "execution_count": 24,
   "id": "8edbe45a-ade0-4037-8b98-bbee7eb5e092",
   "metadata": {},
   "outputs": [
    {
     "data": {
      "text/html": [
       "<div>\n",
       "<style scoped>\n",
       "    .dataframe tbody tr th:only-of-type {\n",
       "        vertical-align: middle;\n",
       "    }\n",
       "\n",
       "    .dataframe tbody tr th {\n",
       "        vertical-align: top;\n",
       "    }\n",
       "\n",
       "    .dataframe thead th {\n",
       "        text-align: right;\n",
       "    }\n",
       "</style>\n",
       "<table border=\"1\" class=\"dataframe\">\n",
       "  <thead>\n",
       "    <tr style=\"text-align: right;\">\n",
       "      <th></th>\n",
       "      <th>Countryname</th>\n",
       "    </tr>\n",
       "  </thead>\n",
       "  <tbody>\n",
       "    <tr>\n",
       "      <th>0</th>\n",
       "      <td>India</td>\n",
       "    </tr>\n",
       "    <tr>\n",
       "      <th>1</th>\n",
       "      <td>China</td>\n",
       "    </tr>\n",
       "    <tr>\n",
       "      <th>2</th>\n",
       "      <td>Nepal</td>\n",
       "    </tr>\n",
       "    <tr>\n",
       "      <th>3</th>\n",
       "      <td>Germany</td>\n",
       "    </tr>\n",
       "    <tr>\n",
       "      <th>4</th>\n",
       "      <td>Russia</td>\n",
       "    </tr>\n",
       "  </tbody>\n",
       "</table>\n",
       "</div>"
      ],
      "text/plain": [
       "  Countryname\n",
       "0       India\n",
       "1       China\n",
       "2       Nepal\n",
       "3     Germany\n",
       "4      Russia"
      ]
     },
     "execution_count": 24,
     "metadata": {},
     "output_type": "execute_result"
    }
   ],
   "source": [
    "df"
   ]
  },
  {
   "cell_type": "code",
   "execution_count": null,
   "id": "79eac35f-c62e-4a21-b66f-39c4a7a7eb22",
   "metadata": {},
   "outputs": [],
   "source": []
  }
 ],
 "metadata": {
  "kernelspec": {
   "display_name": "Python 3 (ipykernel)",
   "language": "python",
   "name": "python3"
  },
  "language_info": {
   "codemirror_mode": {
    "name": "ipython",
    "version": 3
   },
   "file_extension": ".py",
   "mimetype": "text/x-python",
   "name": "python",
   "nbconvert_exporter": "python",
   "pygments_lexer": "ipython3",
   "version": "3.12.7"
  }
 },
 "nbformat": 4,
 "nbformat_minor": 5
}
