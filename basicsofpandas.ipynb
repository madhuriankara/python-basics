{
 "cells": [
  {
   "cell_type": "code",
   "execution_count": 1,
   "id": "946ff338-925e-4f8f-8029-8dc6e82f36dd",
   "metadata": {},
   "outputs": [],
   "source": [
    "#list"
   ]
  },
  {
   "cell_type": "code",
   "execution_count": 2,
   "id": "84d80885-defc-497b-a7e5-1519c281d90c",
   "metadata": {},
   "outputs": [
    {
     "data": {
      "text/plain": [
       "[1, 2, 3, 4, 5]"
      ]
     },
     "execution_count": 2,
     "metadata": {},
     "output_type": "execute_result"
    }
   ],
   "source": [
    "[1,2,3,4,5]"
   ]
  },
  {
   "cell_type": "code",
   "execution_count": 3,
   "id": "8ce3f07d-a647-4465-ac4a-fb23b5c1442e",
   "metadata": {},
   "outputs": [
    {
     "data": {
      "text/plain": [
       "['India', 'Canada', 'USA', 'Nepal', 'England']"
      ]
     },
     "execution_count": 3,
     "metadata": {},
     "output_type": "execute_result"
    }
   ],
   "source": [
    "['India','Canada','USA','Nepal','England']"
   ]
  },
  {
   "cell_type": "code",
   "execution_count": 5,
   "id": "abcb29fe-41de-470b-8e66-d4fbeeb5f801",
   "metadata": {},
   "outputs": [
    {
     "data": {
      "text/plain": [
       "list"
      ]
     },
     "execution_count": 5,
     "metadata": {},
     "output_type": "execute_result"
    }
   ],
   "source": [
    "type([1,2,3,4,5])"
   ]
  },
  {
   "cell_type": "code",
   "execution_count": 6,
   "id": "4b6c0649-0827-40e0-aa30-eb0df2b30dfe",
   "metadata": {},
   "outputs": [
    {
     "data": {
      "text/plain": [
       "list"
      ]
     },
     "execution_count": 6,
     "metadata": {},
     "output_type": "execute_result"
    }
   ],
   "source": [
    "type(['India','Canada','USA','Nepal','England'])"
   ]
  },
  {
   "cell_type": "code",
   "execution_count": 8,
   "id": "9aac63c1-9628-4d16-ae33-722d1ea004d8",
   "metadata": {},
   "outputs": [],
   "source": [
    "country_list = ['India','Canada','USA','Nepal','England']"
   ]
  },
  {
   "cell_type": "code",
   "execution_count": 9,
   "id": "abf5eb0c-16b4-4297-a79d-76d4a333ef6c",
   "metadata": {},
   "outputs": [
    {
     "data": {
      "text/plain": [
       "list"
      ]
     },
     "execution_count": 9,
     "metadata": {},
     "output_type": "execute_result"
    }
   ],
   "source": [
    "type(country_list)"
   ]
  },
  {
   "cell_type": "code",
   "execution_count": 10,
   "id": "d0f2f8b2-9dd2-40e4-b6c9-d57ec43c0bba",
   "metadata": {},
   "outputs": [],
   "source": [
    "#Series is a list with index"
   ]
  },
  {
   "cell_type": "code",
   "execution_count": 11,
   "id": "b99749a5-2597-4930-aa81-70180d5ab05f",
   "metadata": {},
   "outputs": [],
   "source": [
    "import pandas as pd"
   ]
  },
  {
   "cell_type": "code",
   "execution_count": 12,
   "id": "71443ec1-073d-4960-9750-0de019ff8480",
   "metadata": {},
   "outputs": [],
   "source": [
    "df = pd.Series(country_list)"
   ]
  },
  {
   "cell_type": "code",
   "execution_count": 13,
   "id": "187ad014-119f-4dde-b68f-811191f2517c",
   "metadata": {},
   "outputs": [
    {
     "data": {
      "text/plain": [
       "0      India\n",
       "1     Canada\n",
       "2        USA\n",
       "3      Nepal\n",
       "4    England\n",
       "dtype: object"
      ]
     },
     "execution_count": 13,
     "metadata": {},
     "output_type": "execute_result"
    }
   ],
   "source": [
    "df"
   ]
  },
  {
   "cell_type": "code",
   "execution_count": 14,
   "id": "48cd00b3-4e1c-4824-8763-5511644a6c06",
   "metadata": {},
   "outputs": [],
   "source": [
    "#Adding a column name to the following countries"
   ]
  },
  {
   "cell_type": "code",
   "execution_count": 21,
   "id": "a850cdab-5721-4f17-8248-e47756a851eb",
   "metadata": {},
   "outputs": [],
   "source": [
    "addcol = pd.Series(country_list, name=\"CountryName\")"
   ]
  },
  {
   "cell_type": "code",
   "execution_count": 22,
   "id": "ad608ce6-e4ab-4266-9c75-d0c919ed3865",
   "metadata": {},
   "outputs": [
    {
     "data": {
      "text/plain": [
       "0      India\n",
       "1     Canada\n",
       "2        USA\n",
       "3      Nepal\n",
       "4    England\n",
       "Name: CountryName, dtype: object"
      ]
     },
     "execution_count": 22,
     "metadata": {},
     "output_type": "execute_result"
    }
   ],
   "source": [
    "addcol"
   ]
  },
  {
   "cell_type": "code",
   "execution_count": 23,
   "id": "c1fca4c4-3a3d-43d9-90b0-6e3d53bf500b",
   "metadata": {},
   "outputs": [
    {
     "data": {
      "text/plain": [
       "pandas.core.series.Series"
      ]
     },
     "execution_count": 23,
     "metadata": {},
     "output_type": "execute_result"
    }
   ],
   "source": [
    "type(addcol)"
   ]
  },
  {
   "cell_type": "code",
   "execution_count": 24,
   "id": "fd548c4c-ce2c-4fab-96ab-b7229f09e8af",
   "metadata": {},
   "outputs": [],
   "source": [
    "#converting series to dataframe"
   ]
  },
  {
   "cell_type": "code",
   "execution_count": 25,
   "id": "56fb733b-6a59-468d-a519-5bed3645b471",
   "metadata": {},
   "outputs": [],
   "source": [
    "df = addcol.to_frame()"
   ]
  },
  {
   "cell_type": "code",
   "execution_count": 26,
   "id": "79b52a02-f113-4971-99b7-0c6262c36d63",
   "metadata": {},
   "outputs": [
    {
     "data": {
      "text/html": [
       "<div>\n",
       "<style scoped>\n",
       "    .dataframe tbody tr th:only-of-type {\n",
       "        vertical-align: middle;\n",
       "    }\n",
       "\n",
       "    .dataframe tbody tr th {\n",
       "        vertical-align: top;\n",
       "    }\n",
       "\n",
       "    .dataframe thead th {\n",
       "        text-align: right;\n",
       "    }\n",
       "</style>\n",
       "<table border=\"1\" class=\"dataframe\">\n",
       "  <thead>\n",
       "    <tr style=\"text-align: right;\">\n",
       "      <th></th>\n",
       "      <th>CountryName</th>\n",
       "    </tr>\n",
       "  </thead>\n",
       "  <tbody>\n",
       "    <tr>\n",
       "      <th>0</th>\n",
       "      <td>India</td>\n",
       "    </tr>\n",
       "    <tr>\n",
       "      <th>1</th>\n",
       "      <td>Canada</td>\n",
       "    </tr>\n",
       "    <tr>\n",
       "      <th>2</th>\n",
       "      <td>USA</td>\n",
       "    </tr>\n",
       "    <tr>\n",
       "      <th>3</th>\n",
       "      <td>Nepal</td>\n",
       "    </tr>\n",
       "    <tr>\n",
       "      <th>4</th>\n",
       "      <td>England</td>\n",
       "    </tr>\n",
       "  </tbody>\n",
       "</table>\n",
       "</div>"
      ],
      "text/plain": [
       "  CountryName\n",
       "0       India\n",
       "1      Canada\n",
       "2         USA\n",
       "3       Nepal\n",
       "4     England"
      ]
     },
     "execution_count": 26,
     "metadata": {},
     "output_type": "execute_result"
    }
   ],
   "source": [
    "df"
   ]
  },
  {
   "cell_type": "code",
   "execution_count": 27,
   "id": "6171e5fb-5e8c-497b-a5c2-f92b4840b963",
   "metadata": {},
   "outputs": [],
   "source": [
    "#Adding a new column"
   ]
  },
  {
   "cell_type": "code",
   "execution_count": 28,
   "id": "d63a37ce-ccc0-412a-8a0c-4471ac73804a",
   "metadata": {},
   "outputs": [],
   "source": [
    "#df = ('Capital')"
   ]
  },
  {
   "cell_type": "code",
   "execution_count": 29,
   "id": "25f73648-979f-488a-93d0-2edfca82429a",
   "metadata": {},
   "outputs": [
    {
     "data": {
      "text/plain": [
       "'Capital'"
      ]
     },
     "execution_count": 29,
     "metadata": {},
     "output_type": "execute_result"
    }
   ],
   "source": [
    "#df"
   ]
  },
  {
   "cell_type": "code",
   "execution_count": 48,
   "id": "89922326-5f7f-4eb7-9eb8-8c97623df2af",
   "metadata": {},
   "outputs": [],
   "source": [
    "df1 = pd.DataFrame({'Country': ['India', 'Canada', 'USA', 'Nepal', 'England']})"
   ]
  },
  {
   "cell_type": "code",
   "execution_count": 49,
   "id": "ed8d1a70-ec04-4281-a5cf-6120df99b44e",
   "metadata": {},
   "outputs": [],
   "source": [
    "df1['Capital'] = ['Delhi','Ottawa','Washington','Kattmandu','UK']"
   ]
  },
  {
   "cell_type": "code",
   "execution_count": 50,
   "id": "cc64c217-ff4b-4c80-9eee-d052ad335ecc",
   "metadata": {},
   "outputs": [
    {
     "data": {
      "text/html": [
       "<div>\n",
       "<style scoped>\n",
       "    .dataframe tbody tr th:only-of-type {\n",
       "        vertical-align: middle;\n",
       "    }\n",
       "\n",
       "    .dataframe tbody tr th {\n",
       "        vertical-align: top;\n",
       "    }\n",
       "\n",
       "    .dataframe thead th {\n",
       "        text-align: right;\n",
       "    }\n",
       "</style>\n",
       "<table border=\"1\" class=\"dataframe\">\n",
       "  <thead>\n",
       "    <tr style=\"text-align: right;\">\n",
       "      <th></th>\n",
       "      <th>Country</th>\n",
       "      <th>Capital</th>\n",
       "    </tr>\n",
       "  </thead>\n",
       "  <tbody>\n",
       "    <tr>\n",
       "      <th>0</th>\n",
       "      <td>India</td>\n",
       "      <td>Delhi</td>\n",
       "    </tr>\n",
       "    <tr>\n",
       "      <th>1</th>\n",
       "      <td>Canada</td>\n",
       "      <td>Ottawa</td>\n",
       "    </tr>\n",
       "    <tr>\n",
       "      <th>2</th>\n",
       "      <td>USA</td>\n",
       "      <td>Washington</td>\n",
       "    </tr>\n",
       "    <tr>\n",
       "      <th>3</th>\n",
       "      <td>Nepal</td>\n",
       "      <td>Kattmandu</td>\n",
       "    </tr>\n",
       "    <tr>\n",
       "      <th>4</th>\n",
       "      <td>England</td>\n",
       "      <td>UK</td>\n",
       "    </tr>\n",
       "  </tbody>\n",
       "</table>\n",
       "</div>"
      ],
      "text/plain": [
       "   Country     Capital\n",
       "0    India       Delhi\n",
       "1   Canada      Ottawa\n",
       "2      USA  Washington\n",
       "3    Nepal   Kattmandu\n",
       "4  England          UK"
      ]
     },
     "execution_count": 50,
     "metadata": {},
     "output_type": "execute_result"
    }
   ],
   "source": [
    "df1"
   ]
  },
  {
   "cell_type": "code",
   "execution_count": 51,
   "id": "8587fe4b-50a7-47e0-8a6d-ba066f5a7730",
   "metadata": {},
   "outputs": [],
   "source": [
    "#Renaming the headings from country to Name and Capital to cap"
   ]
  },
  {
   "cell_type": "code",
   "execution_count": 52,
   "id": "785c517d-d8c5-41ab-aa3c-fc1f4f018967",
   "metadata": {},
   "outputs": [
    {
     "data": {
      "text/html": [
       "<div>\n",
       "<style scoped>\n",
       "    .dataframe tbody tr th:only-of-type {\n",
       "        vertical-align: middle;\n",
       "    }\n",
       "\n",
       "    .dataframe tbody tr th {\n",
       "        vertical-align: top;\n",
       "    }\n",
       "\n",
       "    .dataframe thead th {\n",
       "        text-align: right;\n",
       "    }\n",
       "</style>\n",
       "<table border=\"1\" class=\"dataframe\">\n",
       "  <thead>\n",
       "    <tr style=\"text-align: right;\">\n",
       "      <th></th>\n",
       "      <th>Name</th>\n",
       "      <th>Cap</th>\n",
       "    </tr>\n",
       "  </thead>\n",
       "  <tbody>\n",
       "    <tr>\n",
       "      <th>0</th>\n",
       "      <td>India</td>\n",
       "      <td>Delhi</td>\n",
       "    </tr>\n",
       "    <tr>\n",
       "      <th>1</th>\n",
       "      <td>Canada</td>\n",
       "      <td>Ottawa</td>\n",
       "    </tr>\n",
       "    <tr>\n",
       "      <th>2</th>\n",
       "      <td>USA</td>\n",
       "      <td>Washington</td>\n",
       "    </tr>\n",
       "    <tr>\n",
       "      <th>3</th>\n",
       "      <td>Nepal</td>\n",
       "      <td>Kattmandu</td>\n",
       "    </tr>\n",
       "    <tr>\n",
       "      <th>4</th>\n",
       "      <td>England</td>\n",
       "      <td>UK</td>\n",
       "    </tr>\n",
       "  </tbody>\n",
       "</table>\n",
       "</div>"
      ],
      "text/plain": [
       "      Name         Cap\n",
       "0    India       Delhi\n",
       "1   Canada      Ottawa\n",
       "2      USA  Washington\n",
       "3    Nepal   Kattmandu\n",
       "4  England          UK"
      ]
     },
     "execution_count": 52,
     "metadata": {},
     "output_type": "execute_result"
    }
   ],
   "source": [
    "df1.rename(columns ={\"Country\" : \"Name\" ,\"Capital\" :\"Cap\"})"
   ]
  },
  {
   "cell_type": "code",
   "execution_count": 57,
   "id": "2e00c0dc-b6ba-4848-829c-5ece06c43788",
   "metadata": {},
   "outputs": [],
   "source": [
    "#Adding new data using dictionary"
   ]
  },
  {
   "cell_type": "code",
   "execution_count": 58,
   "id": "4cd9756c-e76a-42bf-a11d-a9b4875e9f64",
   "metadata": {},
   "outputs": [],
   "source": [
    "data ={\n",
    "    'name' : ['iphone series'],\n",
    "    'model': ['14 pro']\n",
    "}"
   ]
  },
  {
   "cell_type": "code",
   "execution_count": 59,
   "id": "2f894317-3078-4095-95db-3101158df648",
   "metadata": {},
   "outputs": [
    {
     "data": {
      "text/plain": [
       "dict"
      ]
     },
     "execution_count": 59,
     "metadata": {},
     "output_type": "execute_result"
    }
   ],
   "source": [
    "type(data)"
   ]
  },
  {
   "cell_type": "code",
   "execution_count": 60,
   "id": "fb757436-0521-4a30-89bb-c7eb5ea176b4",
   "metadata": {},
   "outputs": [
    {
     "data": {
      "text/plain": [
       "{'name': ['iphone series'], 'model': ['14 pro']}"
      ]
     },
     "execution_count": 60,
     "metadata": {},
     "output_type": "execute_result"
    }
   ],
   "source": [
    "data"
   ]
  },
  {
   "cell_type": "code",
   "execution_count": 63,
   "id": "c1d3972f-465f-4e38-9ab1-e92c53262a16",
   "metadata": {},
   "outputs": [],
   "source": [
    "ab = pd.Series(data)"
   ]
  },
  {
   "cell_type": "code",
   "execution_count": 64,
   "id": "9451bc7b-c8d6-4862-82fe-df026395cecf",
   "metadata": {},
   "outputs": [
    {
     "data": {
      "text/plain": [
       "name     [iphone series]\n",
       "model           [14 pro]\n",
       "dtype: object"
      ]
     },
     "execution_count": 64,
     "metadata": {},
     "output_type": "execute_result"
    }
   ],
   "source": [
    "ab"
   ]
  },
  {
   "cell_type": "code",
   "execution_count": 67,
   "id": "0147a442-526b-42e0-9209-33075dd505b7",
   "metadata": {},
   "outputs": [],
   "source": [
    "df = pd.DataFrame.from_dict(ab)"
   ]
  },
  {
   "cell_type": "code",
   "execution_count": 68,
   "id": "ed69f085-0bc5-497b-8fad-27f261c8d2fb",
   "metadata": {},
   "outputs": [
    {
     "data": {
      "text/html": [
       "<div>\n",
       "<style scoped>\n",
       "    .dataframe tbody tr th:only-of-type {\n",
       "        vertical-align: middle;\n",
       "    }\n",
       "\n",
       "    .dataframe tbody tr th {\n",
       "        vertical-align: top;\n",
       "    }\n",
       "\n",
       "    .dataframe thead th {\n",
       "        text-align: right;\n",
       "    }\n",
       "</style>\n",
       "<table border=\"1\" class=\"dataframe\">\n",
       "  <thead>\n",
       "    <tr style=\"text-align: right;\">\n",
       "      <th></th>\n",
       "      <th>0</th>\n",
       "    </tr>\n",
       "  </thead>\n",
       "  <tbody>\n",
       "    <tr>\n",
       "      <th>name</th>\n",
       "      <td>[iphone series]</td>\n",
       "    </tr>\n",
       "    <tr>\n",
       "      <th>model</th>\n",
       "      <td>[14 pro]</td>\n",
       "    </tr>\n",
       "  </tbody>\n",
       "</table>\n",
       "</div>"
      ],
      "text/plain": [
       "                     0\n",
       "name   [iphone series]\n",
       "model         [14 pro]"
      ]
     },
     "execution_count": 68,
     "metadata": {},
     "output_type": "execute_result"
    }
   ],
   "source": [
    "df"
   ]
  },
  {
   "cell_type": "code",
   "execution_count": 83,
   "id": "737a59a4-736b-4942-a97c-53a8d035e09a",
   "metadata": {},
   "outputs": [],
   "source": [
    "new_series ={\n",
    "    'name' : 'Samsung series',\n",
    "    'model' : 'S2'\n",
    "}"
   ]
  },
  {
   "cell_type": "raw",
   "id": "990d37dd-e98c-4b6f-865b-00c022b782c7",
   "metadata": {},
   "source": [
    "new_series"
   ]
  },
  {
   "cell_type": "code",
   "execution_count": 84,
   "id": "559b9fb5-e844-4d12-9aea-12e38a77610e",
   "metadata": {},
   "outputs": [
    {
     "data": {
      "text/plain": [
       "dict"
      ]
     },
     "execution_count": 84,
     "metadata": {},
     "output_type": "execute_result"
    }
   ],
   "source": [
    "type(new_series)"
   ]
  },
  {
   "cell_type": "code",
   "execution_count": 85,
   "id": "13882640-ef79-449e-9811-22c48d86cc33",
   "metadata": {},
   "outputs": [],
   "source": [
    "df.iloc[-1] = new_series"
   ]
  },
  {
   "cell_type": "code",
   "execution_count": 90,
   "id": "ad870c32-e7e0-416a-a0e8-baf3b9d8a462",
   "metadata": {},
   "outputs": [
    {
     "data": {
      "text/plain": [
       "{'name': 'Samsung series', 'model': 'S2'}"
      ]
     },
     "execution_count": 90,
     "metadata": {},
     "output_type": "execute_result"
    }
   ],
   "source": [
    "new_series"
   ]
  },
  {
   "cell_type": "code",
   "execution_count": 91,
   "id": "2e05a27f-d47b-43ca-ba1c-7934d577d3a0",
   "metadata": {},
   "outputs": [
    {
     "data": {
      "text/html": [
       "<div>\n",
       "<style scoped>\n",
       "    .dataframe tbody tr th:only-of-type {\n",
       "        vertical-align: middle;\n",
       "    }\n",
       "\n",
       "    .dataframe tbody tr th {\n",
       "        vertical-align: top;\n",
       "    }\n",
       "\n",
       "    .dataframe thead th {\n",
       "        text-align: right;\n",
       "    }\n",
       "</style>\n",
       "<table border=\"1\" class=\"dataframe\">\n",
       "  <thead>\n",
       "    <tr style=\"text-align: right;\">\n",
       "      <th></th>\n",
       "      <th>0</th>\n",
       "    </tr>\n",
       "  </thead>\n",
       "  <tbody>\n",
       "    <tr>\n",
       "      <th>name</th>\n",
       "      <td>[iphone series]</td>\n",
       "    </tr>\n",
       "    <tr>\n",
       "      <th>model</th>\n",
       "      <td>NaN</td>\n",
       "    </tr>\n",
       "  </tbody>\n",
       "</table>\n",
       "</div>"
      ],
      "text/plain": [
       "                     0\n",
       "name   [iphone series]\n",
       "model              NaN"
      ]
     },
     "execution_count": 91,
     "metadata": {},
     "output_type": "execute_result"
    }
   ],
   "source": [
    "df"
   ]
  },
  {
   "cell_type": "code",
   "execution_count": 92,
   "id": "ba6f5168-8f71-4ebb-b132-8c53e4e43c12",
   "metadata": {},
   "outputs": [
    {
     "data": {
      "text/plain": [
       "{'name': 'Samsung series', 'model': 'S2'}"
      ]
     },
     "execution_count": 92,
     "metadata": {},
     "output_type": "execute_result"
    }
   ],
   "source": [
    "new_series"
   ]
  },
  {
   "cell_type": "code",
   "execution_count": 89,
   "id": "3f8b5ac0-a6b8-46b5-924b-9fce906fd638",
   "metadata": {},
   "outputs": [
    {
     "data": {
      "text/html": [
       "<div>\n",
       "<style scoped>\n",
       "    .dataframe tbody tr th:only-of-type {\n",
       "        vertical-align: middle;\n",
       "    }\n",
       "\n",
       "    .dataframe tbody tr th {\n",
       "        vertical-align: top;\n",
       "    }\n",
       "\n",
       "    .dataframe thead th {\n",
       "        text-align: right;\n",
       "    }\n",
       "</style>\n",
       "<table border=\"1\" class=\"dataframe\">\n",
       "  <thead>\n",
       "    <tr style=\"text-align: right;\">\n",
       "      <th></th>\n",
       "      <th>0</th>\n",
       "    </tr>\n",
       "  </thead>\n",
       "  <tbody>\n",
       "    <tr>\n",
       "      <th>name</th>\n",
       "      <td>[iphone series]</td>\n",
       "    </tr>\n",
       "    <tr>\n",
       "      <th>model</th>\n",
       "      <td>NaN</td>\n",
       "    </tr>\n",
       "  </tbody>\n",
       "</table>\n",
       "</div>"
      ],
      "text/plain": [
       "                     0\n",
       "name   [iphone series]\n",
       "model              NaN"
      ]
     },
     "execution_count": 89,
     "metadata": {},
     "output_type": "execute_result"
    }
   ],
   "source": [
    "df"
   ]
  },
  {
   "cell_type": "code",
   "execution_count": 96,
   "id": "1aed5518-2720-4be1-912a-9a0ab1a0f607",
   "metadata": {},
   "outputs": [],
   "source": [
    "df = pd.DataFrame([{'name': 'Samsung series', 'model': 'S2'}]) "
   ]
  },
  {
   "cell_type": "code",
   "execution_count": 97,
   "id": "1e3bf7ae-6ca8-4c1d-bc52-df6829fdbee5",
   "metadata": {},
   "outputs": [
    {
     "data": {
      "text/html": [
       "<div>\n",
       "<style scoped>\n",
       "    .dataframe tbody tr th:only-of-type {\n",
       "        vertical-align: middle;\n",
       "    }\n",
       "\n",
       "    .dataframe tbody tr th {\n",
       "        vertical-align: top;\n",
       "    }\n",
       "\n",
       "    .dataframe thead th {\n",
       "        text-align: right;\n",
       "    }\n",
       "</style>\n",
       "<table border=\"1\" class=\"dataframe\">\n",
       "  <thead>\n",
       "    <tr style=\"text-align: right;\">\n",
       "      <th></th>\n",
       "      <th>name</th>\n",
       "      <th>model</th>\n",
       "    </tr>\n",
       "  </thead>\n",
       "  <tbody>\n",
       "    <tr>\n",
       "      <th>0</th>\n",
       "      <td>Samsung series</td>\n",
       "      <td>S2</td>\n",
       "    </tr>\n",
       "  </tbody>\n",
       "</table>\n",
       "</div>"
      ],
      "text/plain": [
       "             name model\n",
       "0  Samsung series    S2"
      ]
     },
     "execution_count": 97,
     "metadata": {},
     "output_type": "execute_result"
    }
   ],
   "source": [
    "df"
   ]
  },
  {
   "cell_type": "code",
   "execution_count": 98,
   "id": "c0b1437c-022f-46e6-9ce4-a8bb51df2511",
   "metadata": {},
   "outputs": [],
   "source": [
    "df.iloc[-1]= new_series"
   ]
  },
  {
   "cell_type": "code",
   "execution_count": 99,
   "id": "39f59d6f-9f18-436f-b1fc-d90140e820ea",
   "metadata": {},
   "outputs": [
    {
     "data": {
      "text/plain": [
       "{'name': 'Samsung series', 'model': 'S2'}"
      ]
     },
     "execution_count": 99,
     "metadata": {},
     "output_type": "execute_result"
    }
   ],
   "source": [
    "new_series"
   ]
  },
  {
   "cell_type": "code",
   "execution_count": 100,
   "id": "a581fb9e-c3b1-4d21-8395-4e810b3d103d",
   "metadata": {},
   "outputs": [
    {
     "data": {
      "text/plain": [
       "dict"
      ]
     },
     "execution_count": 100,
     "metadata": {},
     "output_type": "execute_result"
    }
   ],
   "source": [
    "type(new_series)"
   ]
  },
  {
   "cell_type": "code",
   "execution_count": null,
   "id": "2d5b469b-1dbd-4bb8-a6c0-98171ff7dbff",
   "metadata": {},
   "outputs": [],
   "source": []
  },
  {
   "cell_type": "code",
   "execution_count": 103,
   "id": "7b4d37d9-02da-4c0a-a14d-f7ba1dacb23d",
   "metadata": {},
   "outputs": [],
   "source": [
    "#Replacing of S2 to series2"
   ]
  },
  {
   "cell_type": "code",
   "execution_count": 112,
   "id": "b939fd85-60da-4970-ba3d-ce30cb2f4b51",
   "metadata": {},
   "outputs": [],
   "source": [
    "df[\"model\"]= df[\"model\"].replace(\"S2\" ,\"Series2\")"
   ]
  },
  {
   "cell_type": "code",
   "execution_count": 113,
   "id": "8432a6af-5246-48bc-9a4e-943fd78e16b8",
   "metadata": {},
   "outputs": [
    {
     "data": {
      "text/html": [
       "<div>\n",
       "<style scoped>\n",
       "    .dataframe tbody tr th:only-of-type {\n",
       "        vertical-align: middle;\n",
       "    }\n",
       "\n",
       "    .dataframe tbody tr th {\n",
       "        vertical-align: top;\n",
       "    }\n",
       "\n",
       "    .dataframe thead th {\n",
       "        text-align: right;\n",
       "    }\n",
       "</style>\n",
       "<table border=\"1\" class=\"dataframe\">\n",
       "  <thead>\n",
       "    <tr style=\"text-align: right;\">\n",
       "      <th></th>\n",
       "      <th>name</th>\n",
       "      <th>model</th>\n",
       "    </tr>\n",
       "  </thead>\n",
       "  <tbody>\n",
       "    <tr>\n",
       "      <th>0</th>\n",
       "      <td>Samsung series</td>\n",
       "      <td>Series2</td>\n",
       "    </tr>\n",
       "  </tbody>\n",
       "</table>\n",
       "</div>"
      ],
      "text/plain": [
       "             name    model\n",
       "0  Samsung series  Series2"
      ]
     },
     "execution_count": 113,
     "metadata": {},
     "output_type": "execute_result"
    }
   ],
   "source": [
    "df"
   ]
  },
  {
   "cell_type": "code",
   "execution_count": 114,
   "id": "4315eb65-6ed1-48c7-bc18-c8df04ddca2d",
   "metadata": {},
   "outputs": [],
   "source": [
    "#Creating a new set with numbers"
   ]
  },
  {
   "cell_type": "code",
   "execution_count": 118,
   "id": "70dbc0d9-40b9-432c-a9a1-3864f54efc79",
   "metadata": {},
   "outputs": [],
   "source": [
    "df = pd.DataFrame(columns=['A'])"
   ]
  },
  {
   "cell_type": "code",
   "execution_count": 119,
   "id": "259fd88b-cfce-4015-9a3e-e225ff31ae43",
   "metadata": {},
   "outputs": [
    {
     "data": {
      "text/html": [
       "<div>\n",
       "<style scoped>\n",
       "    .dataframe tbody tr th:only-of-type {\n",
       "        vertical-align: middle;\n",
       "    }\n",
       "\n",
       "    .dataframe tbody tr th {\n",
       "        vertical-align: top;\n",
       "    }\n",
       "\n",
       "    .dataframe thead th {\n",
       "        text-align: right;\n",
       "    }\n",
       "</style>\n",
       "<table border=\"1\" class=\"dataframe\">\n",
       "  <thead>\n",
       "    <tr style=\"text-align: right;\">\n",
       "      <th></th>\n",
       "      <th>A</th>\n",
       "    </tr>\n",
       "  </thead>\n",
       "  <tbody>\n",
       "  </tbody>\n",
       "</table>\n",
       "</div>"
      ],
      "text/plain": [
       "Empty DataFrame\n",
       "Columns: [A]\n",
       "Index: []"
      ]
     },
     "execution_count": 119,
     "metadata": {},
     "output_type": "execute_result"
    }
   ],
   "source": [
    "df"
   ]
  },
  {
   "cell_type": "code",
   "execution_count": 120,
   "id": "0f73d86d-7dd2-4429-91e4-5abd73d7231b",
   "metadata": {},
   "outputs": [],
   "source": [
    "new_data = {'A': 4}"
   ]
  },
  {
   "cell_type": "code",
   "execution_count": 121,
   "id": "15880f20-896e-47af-a099-a19d5e46e06b",
   "metadata": {},
   "outputs": [
    {
     "data": {
      "text/plain": [
       "dict"
      ]
     },
     "execution_count": 121,
     "metadata": {},
     "output_type": "execute_result"
    }
   ],
   "source": [
    "type(new_data)\n"
   ]
  },
  {
   "cell_type": "code",
   "execution_count": 124,
   "id": "23370bdd-dab4-4b4d-b76f-f8678f8c6bef",
   "metadata": {},
   "outputs": [],
   "source": [
    "df1 = pd.DataFrame([new_data])"
   ]
  },
  {
   "cell_type": "code",
   "execution_count": 125,
   "id": "293d4734-0327-48d4-a23e-a32d959b2b7b",
   "metadata": {},
   "outputs": [
    {
     "data": {
      "text/html": [
       "<div>\n",
       "<style scoped>\n",
       "    .dataframe tbody tr th:only-of-type {\n",
       "        vertical-align: middle;\n",
       "    }\n",
       "\n",
       "    .dataframe tbody tr th {\n",
       "        vertical-align: top;\n",
       "    }\n",
       "\n",
       "    .dataframe thead th {\n",
       "        text-align: right;\n",
       "    }\n",
       "</style>\n",
       "<table border=\"1\" class=\"dataframe\">\n",
       "  <thead>\n",
       "    <tr style=\"text-align: right;\">\n",
       "      <th></th>\n",
       "      <th>A</th>\n",
       "    </tr>\n",
       "  </thead>\n",
       "  <tbody>\n",
       "    <tr>\n",
       "      <th>0</th>\n",
       "      <td>4</td>\n",
       "    </tr>\n",
       "  </tbody>\n",
       "</table>\n",
       "</div>"
      ],
      "text/plain": [
       "   A\n",
       "0  4"
      ]
     },
     "execution_count": 125,
     "metadata": {},
     "output_type": "execute_result"
    }
   ],
   "source": [
    "df1"
   ]
  },
  {
   "cell_type": "code",
   "execution_count": 127,
   "id": "3797d96d-e38f-49ea-b6b2-8b0af014b24a",
   "metadata": {},
   "outputs": [],
   "source": [
    "df = pd.concat([df,df1])"
   ]
  },
  {
   "cell_type": "code",
   "execution_count": 128,
   "id": "562723f4-c6c7-4511-888f-3a074ec9dde7",
   "metadata": {},
   "outputs": [
    {
     "data": {
      "text/html": [
       "<div>\n",
       "<style scoped>\n",
       "    .dataframe tbody tr th:only-of-type {\n",
       "        vertical-align: middle;\n",
       "    }\n",
       "\n",
       "    .dataframe tbody tr th {\n",
       "        vertical-align: top;\n",
       "    }\n",
       "\n",
       "    .dataframe thead th {\n",
       "        text-align: right;\n",
       "    }\n",
       "</style>\n",
       "<table border=\"1\" class=\"dataframe\">\n",
       "  <thead>\n",
       "    <tr style=\"text-align: right;\">\n",
       "      <th></th>\n",
       "      <th>A</th>\n",
       "    </tr>\n",
       "  </thead>\n",
       "  <tbody>\n",
       "    <tr>\n",
       "      <th>0</th>\n",
       "      <td>4</td>\n",
       "    </tr>\n",
       "  </tbody>\n",
       "</table>\n",
       "</div>"
      ],
      "text/plain": [
       "   A\n",
       "0  4"
      ]
     },
     "execution_count": 128,
     "metadata": {},
     "output_type": "execute_result"
    }
   ],
   "source": [
    "df"
   ]
  },
  {
   "cell_type": "code",
   "execution_count": 129,
   "id": "1383bb9f-b3f4-4f5a-afad-f18d701b98fb",
   "metadata": {},
   "outputs": [],
   "source": [
    "df2 = pd.DataFrame(['A',8])"
   ]
  },
  {
   "cell_type": "code",
   "execution_count": 130,
   "id": "df5b6edb-9bdf-4146-abba-fb1a5fa13605",
   "metadata": {},
   "outputs": [
    {
     "data": {
      "text/html": [
       "<div>\n",
       "<style scoped>\n",
       "    .dataframe tbody tr th:only-of-type {\n",
       "        vertical-align: middle;\n",
       "    }\n",
       "\n",
       "    .dataframe tbody tr th {\n",
       "        vertical-align: top;\n",
       "    }\n",
       "\n",
       "    .dataframe thead th {\n",
       "        text-align: right;\n",
       "    }\n",
       "</style>\n",
       "<table border=\"1\" class=\"dataframe\">\n",
       "  <thead>\n",
       "    <tr style=\"text-align: right;\">\n",
       "      <th></th>\n",
       "      <th>0</th>\n",
       "    </tr>\n",
       "  </thead>\n",
       "  <tbody>\n",
       "    <tr>\n",
       "      <th>0</th>\n",
       "      <td>A</td>\n",
       "    </tr>\n",
       "    <tr>\n",
       "      <th>1</th>\n",
       "      <td>8</td>\n",
       "    </tr>\n",
       "  </tbody>\n",
       "</table>\n",
       "</div>"
      ],
      "text/plain": [
       "   0\n",
       "0  A\n",
       "1  8"
      ]
     },
     "execution_count": 130,
     "metadata": {},
     "output_type": "execute_result"
    }
   ],
   "source": [
    "df2"
   ]
  },
  {
   "cell_type": "code",
   "execution_count": 132,
   "id": "faca98ac-7dce-495f-b717-9754a3524e51",
   "metadata": {},
   "outputs": [],
   "source": [
    "df = pd.concat([df,df2])"
   ]
  },
  {
   "cell_type": "code",
   "execution_count": 133,
   "id": "a0cfff79-d629-48e1-b544-19090f99a02a",
   "metadata": {},
   "outputs": [
    {
     "data": {
      "text/html": [
       "<div>\n",
       "<style scoped>\n",
       "    .dataframe tbody tr th:only-of-type {\n",
       "        vertical-align: middle;\n",
       "    }\n",
       "\n",
       "    .dataframe tbody tr th {\n",
       "        vertical-align: top;\n",
       "    }\n",
       "\n",
       "    .dataframe thead th {\n",
       "        text-align: right;\n",
       "    }\n",
       "</style>\n",
       "<table border=\"1\" class=\"dataframe\">\n",
       "  <thead>\n",
       "    <tr style=\"text-align: right;\">\n",
       "      <th></th>\n",
       "      <th>A</th>\n",
       "      <th>0</th>\n",
       "    </tr>\n",
       "  </thead>\n",
       "  <tbody>\n",
       "    <tr>\n",
       "      <th>0</th>\n",
       "      <td>4</td>\n",
       "      <td>NaN</td>\n",
       "    </tr>\n",
       "    <tr>\n",
       "      <th>0</th>\n",
       "      <td>NaN</td>\n",
       "      <td>A</td>\n",
       "    </tr>\n",
       "    <tr>\n",
       "      <th>1</th>\n",
       "      <td>NaN</td>\n",
       "      <td>8</td>\n",
       "    </tr>\n",
       "  </tbody>\n",
       "</table>\n",
       "</div>"
      ],
      "text/plain": [
       "     A    0\n",
       "0    4  NaN\n",
       "0  NaN    A\n",
       "1  NaN    8"
      ]
     },
     "execution_count": 133,
     "metadata": {},
     "output_type": "execute_result"
    }
   ],
   "source": [
    "df"
   ]
  },
  {
   "cell_type": "code",
   "execution_count": null,
   "id": "8962b7c8-bfea-443a-b3d1-db8bb20cbd49",
   "metadata": {},
   "outputs": [],
   "source": []
  }
 ],
 "metadata": {
  "kernelspec": {
   "display_name": "Python 3 (ipykernel)",
   "language": "python",
   "name": "python3"
  },
  "language_info": {
   "codemirror_mode": {
    "name": "ipython",
    "version": 3
   },
   "file_extension": ".py",
   "mimetype": "text/x-python",
   "name": "python",
   "nbconvert_exporter": "python",
   "pygments_lexer": "ipython3",
   "version": "3.12.7"
  }
 },
 "nbformat": 4,
 "nbformat_minor": 5
}
