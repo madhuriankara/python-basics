{
 "cells": [
  {
   "cell_type": "code",
   "execution_count": 66,
   "id": "7f30b6e2-3136-42ed-a790-2a1de1cf6e0b",
   "metadata": {},
   "outputs": [],
   "source": [
    "FILEPATH = \"~/Downloads/la-analysis/la-20231208.csv\""
   ]
  },
  {
   "cell_type": "code",
   "execution_count": 67,
   "id": "9510b43b-dc45-401a-9a3a-ba8ee704e77a",
   "metadata": {},
   "outputs": [],
   "source": [
    "#!pip show pandas"
   ]
  },
  {
   "cell_type": "code",
   "execution_count": 68,
   "id": "8f9be67c-0a94-45db-b03b-78bfb9d37241",
   "metadata": {},
   "outputs": [],
   "source": [
    "#!pip install pandas"
   ]
  },
  {
   "cell_type": "code",
   "execution_count": 69,
   "id": "0cfcf328-96a7-4a04-bac0-4fefbac7e2b0",
   "metadata": {},
   "outputs": [],
   "source": [
    "#!pip show pandas"
   ]
  },
  {
   "cell_type": "code",
   "execution_count": 70,
   "id": "39e9bf6f-787b-4626-9411-cb7ceffa1747",
   "metadata": {},
   "outputs": [],
   "source": [
    "import pandas as pd"
   ]
  },
  {
   "cell_type": "code",
   "execution_count": 71,
   "id": "09c07d9b-8890-479d-af70-d9b215d18394",
   "metadata": {},
   "outputs": [],
   "source": [
    "df = pd.read_csv(FILEPATH)"
   ]
  },
  {
   "cell_type": "code",
   "execution_count": 72,
   "id": "582cf552-725f-4da3-b802-cdf150e7e1c8",
   "metadata": {},
   "outputs": [
    {
     "data": {
      "text/html": [
       "<div>\n",
       "<style scoped>\n",
       "    .dataframe tbody tr th:only-of-type {\n",
       "        vertical-align: middle;\n",
       "    }\n",
       "\n",
       "    .dataframe tbody tr th {\n",
       "        vertical-align: top;\n",
       "    }\n",
       "\n",
       "    .dataframe thead th {\n",
       "        text-align: right;\n",
       "    }\n",
       "</style>\n",
       "<table border=\"1\" class=\"dataframe\">\n",
       "  <thead>\n",
       "    <tr style=\"text-align: right;\">\n",
       "      <th></th>\n",
       "      <th>created_at</th>\n",
       "      <th>created_at_timestamp</th>\n",
       "      <th>isPrivate</th>\n",
       "      <th>la_id</th>\n",
       "      <th>link</th>\n",
       "      <th>tag_ids</th>\n",
       "      <th>title</th>\n",
       "      <th>updated_at</th>\n",
       "      <th>user_id</th>\n",
       "    </tr>\n",
       "  </thead>\n",
       "  <tbody>\n",
       "    <tr>\n",
       "      <th>0</th>\n",
       "      <td>2020-08-07</td>\n",
       "      <td>1.596792e+09</td>\n",
       "      <td>False</td>\n",
       "      <td>1</td>\n",
       "      <td>https://stackoverflow.com/questions/68683443/a...</td>\n",
       "      <td>[]</td>\n",
       "      <td>Airflow Docker Module install issue</td>\n",
       "      <td>2020-08-07</td>\n",
       "      <td>97</td>\n",
       "    </tr>\n",
       "    <tr>\n",
       "      <th>1</th>\n",
       "      <td>2020-08-08</td>\n",
       "      <td>1.596852e+09</td>\n",
       "      <td>False</td>\n",
       "      <td>2</td>\n",
       "      <td>https://stackoverflow.blog/2021/02/16/level-up...</td>\n",
       "      <td>[]</td>\n",
       "      <td>Level Up: Mastering statistics with Python</td>\n",
       "      <td>2020-08-08</td>\n",
       "      <td>97</td>\n",
       "    </tr>\n",
       "    <tr>\n",
       "      <th>2</th>\n",
       "      <td>2020-08-08</td>\n",
       "      <td>1.596889e+09</td>\n",
       "      <td>False</td>\n",
       "      <td>3</td>\n",
       "      <td>https://stackoverflow.com/questions/10973766/u...</td>\n",
       "      <td>[]</td>\n",
       "      <td>Understanding the map function</td>\n",
       "      <td>2020-08-08</td>\n",
       "      <td>48</td>\n",
       "    </tr>\n",
       "    <tr>\n",
       "      <th>3</th>\n",
       "      <td>2021-08-07</td>\n",
       "      <td>1.628353e+09</td>\n",
       "      <td>False</td>\n",
       "      <td>6</td>\n",
       "      <td>https://stackoverflow.blog/2014/09/16/introduc...</td>\n",
       "      <td>[]</td>\n",
       "      <td>Introducing Runnable JavaScript, CSS, and HTML...</td>\n",
       "      <td>2021-08-07</td>\n",
       "      <td>48</td>\n",
       "    </tr>\n",
       "    <tr>\n",
       "      <th>4</th>\n",
       "      <td>2021-08-08</td>\n",
       "      <td>1.628382e+09</td>\n",
       "      <td>False</td>\n",
       "      <td>9</td>\n",
       "      <td>https://stackoverflow.com/questions/39858161/t...</td>\n",
       "      <td>[]</td>\n",
       "      <td>python - TypeError: Expected bytes in Flask ap...</td>\n",
       "      <td>2021-08-08</td>\n",
       "      <td>48</td>\n",
       "    </tr>\n",
       "    <tr>\n",
       "      <th>...</th>\n",
       "      <td>...</td>\n",
       "      <td>...</td>\n",
       "      <td>...</td>\n",
       "      <td>...</td>\n",
       "      <td>...</td>\n",
       "      <td>...</td>\n",
       "      <td>...</td>\n",
       "      <td>...</td>\n",
       "      <td>...</td>\n",
       "    </tr>\n",
       "    <tr>\n",
       "      <th>28921</th>\n",
       "      <td>2023-12-06</td>\n",
       "      <td>1.701802e+09</td>\n",
       "      <td>False</td>\n",
       "      <td>29774</td>\n",
       "      <td>https://nlp.stanford.edu/nlp/javadoc/javanlp-3...</td>\n",
       "      <td>[]</td>\n",
       "      <td>IOUtils (Stanford JavaNLP API)</td>\n",
       "      <td>2023-12-06</td>\n",
       "      <td>19</td>\n",
       "    </tr>\n",
       "    <tr>\n",
       "      <th>28922</th>\n",
       "      <td>2023-12-06</td>\n",
       "      <td>1.701802e+09</td>\n",
       "      <td>False</td>\n",
       "      <td>29775</td>\n",
       "      <td>https://docs.oracle.com/en/java/javase/17/docs...</td>\n",
       "      <td>[]</td>\n",
       "      <td>The javap Command</td>\n",
       "      <td>2023-12-06</td>\n",
       "      <td>19</td>\n",
       "    </tr>\n",
       "    <tr>\n",
       "      <th>28923</th>\n",
       "      <td>2023-12-06</td>\n",
       "      <td>1.701802e+09</td>\n",
       "      <td>False</td>\n",
       "      <td>29776</td>\n",
       "      <td>https://java.hotexamples.com/search</td>\n",
       "      <td>[]</td>\n",
       "      <td>Java Code Examples - HotExamples</td>\n",
       "      <td>2023-12-06</td>\n",
       "      <td>19</td>\n",
       "    </tr>\n",
       "    <tr>\n",
       "      <th>28924</th>\n",
       "      <td>2023-12-08</td>\n",
       "      <td>1.702006e+09</td>\n",
       "      <td>False</td>\n",
       "      <td>29777</td>\n",
       "      <td>https://youssefh.substack.com/p/andrej-karpath...</td>\n",
       "      <td>[]</td>\n",
       "      <td>Andrej Karpathy LLM Paper Reading List for LLM...</td>\n",
       "      <td>2023-12-08</td>\n",
       "      <td>19</td>\n",
       "    </tr>\n",
       "    <tr>\n",
       "      <th>28925</th>\n",
       "      <td>2023-12-08</td>\n",
       "      <td>1.702041e+09</td>\n",
       "      <td>False</td>\n",
       "      <td>29778</td>\n",
       "      <td>https://www.dailydoseofds.com/gaussian-mixture...</td>\n",
       "      <td>[]</td>\n",
       "      <td>Gaussian Mixture Models (GMMs)</td>\n",
       "      <td>2023-12-08</td>\n",
       "      <td>19</td>\n",
       "    </tr>\n",
       "  </tbody>\n",
       "</table>\n",
       "<p>28926 rows × 9 columns</p>\n",
       "</div>"
      ],
      "text/plain": [
       "       created_at  created_at_timestamp  isPrivate  la_id  \\\n",
       "0      2020-08-07          1.596792e+09      False      1   \n",
       "1      2020-08-08          1.596852e+09      False      2   \n",
       "2      2020-08-08          1.596889e+09      False      3   \n",
       "3      2021-08-07          1.628353e+09      False      6   \n",
       "4      2021-08-08          1.628382e+09      False      9   \n",
       "...           ...                   ...        ...    ...   \n",
       "28921  2023-12-06          1.701802e+09      False  29774   \n",
       "28922  2023-12-06          1.701802e+09      False  29775   \n",
       "28923  2023-12-06          1.701802e+09      False  29776   \n",
       "28924  2023-12-08          1.702006e+09      False  29777   \n",
       "28925  2023-12-08          1.702041e+09      False  29778   \n",
       "\n",
       "                                                    link tag_ids  \\\n",
       "0      https://stackoverflow.com/questions/68683443/a...      []   \n",
       "1      https://stackoverflow.blog/2021/02/16/level-up...      []   \n",
       "2      https://stackoverflow.com/questions/10973766/u...      []   \n",
       "3      https://stackoverflow.blog/2014/09/16/introduc...      []   \n",
       "4      https://stackoverflow.com/questions/39858161/t...      []   \n",
       "...                                                  ...     ...   \n",
       "28921  https://nlp.stanford.edu/nlp/javadoc/javanlp-3...      []   \n",
       "28922  https://docs.oracle.com/en/java/javase/17/docs...      []   \n",
       "28923                https://java.hotexamples.com/search      []   \n",
       "28924  https://youssefh.substack.com/p/andrej-karpath...      []   \n",
       "28925  https://www.dailydoseofds.com/gaussian-mixture...      []   \n",
       "\n",
       "                                                   title  updated_at  user_id  \n",
       "0                    Airflow Docker Module install issue  2020-08-07       97  \n",
       "1             Level Up: Mastering statistics with Python  2020-08-08       97  \n",
       "2                         Understanding the map function  2020-08-08       48  \n",
       "3      Introducing Runnable JavaScript, CSS, and HTML...  2021-08-07       48  \n",
       "4      python - TypeError: Expected bytes in Flask ap...  2021-08-08       48  \n",
       "...                                                  ...         ...      ...  \n",
       "28921                     IOUtils (Stanford JavaNLP API)  2023-12-06       19  \n",
       "28922                                  The javap Command  2023-12-06       19  \n",
       "28923                   Java Code Examples - HotExamples  2023-12-06       19  \n",
       "28924  Andrej Karpathy LLM Paper Reading List for LLM...  2023-12-08       19  \n",
       "28925                     Gaussian Mixture Models (GMMs)  2023-12-08       19  \n",
       "\n",
       "[28926 rows x 9 columns]"
      ]
     },
     "execution_count": 72,
     "metadata": {},
     "output_type": "execute_result"
    }
   ],
   "source": [
    "df"
   ]
  },
  {
   "cell_type": "code",
   "execution_count": 73,
   "id": "ea6deafc-b970-4d3b-beef-9384c54a0ce5",
   "metadata": {},
   "outputs": [
    {
     "data": {
      "text/html": [
       "<div>\n",
       "<style scoped>\n",
       "    .dataframe tbody tr th:only-of-type {\n",
       "        vertical-align: middle;\n",
       "    }\n",
       "\n",
       "    .dataframe tbody tr th {\n",
       "        vertical-align: top;\n",
       "    }\n",
       "\n",
       "    .dataframe thead th {\n",
       "        text-align: right;\n",
       "    }\n",
       "</style>\n",
       "<table border=\"1\" class=\"dataframe\">\n",
       "  <thead>\n",
       "    <tr style=\"text-align: right;\">\n",
       "      <th></th>\n",
       "      <th>created_at</th>\n",
       "      <th>created_at_timestamp</th>\n",
       "      <th>isPrivate</th>\n",
       "      <th>la_id</th>\n",
       "      <th>link</th>\n",
       "      <th>tag_ids</th>\n",
       "      <th>title</th>\n",
       "      <th>updated_at</th>\n",
       "      <th>user_id</th>\n",
       "    </tr>\n",
       "  </thead>\n",
       "  <tbody>\n",
       "    <tr>\n",
       "      <th>0</th>\n",
       "      <td>2020-08-07</td>\n",
       "      <td>1.596792e+09</td>\n",
       "      <td>False</td>\n",
       "      <td>1</td>\n",
       "      <td>https://stackoverflow.com/questions/68683443/a...</td>\n",
       "      <td>[]</td>\n",
       "      <td>Airflow Docker Module install issue</td>\n",
       "      <td>2020-08-07</td>\n",
       "      <td>97</td>\n",
       "    </tr>\n",
       "    <tr>\n",
       "      <th>1</th>\n",
       "      <td>2020-08-08</td>\n",
       "      <td>1.596852e+09</td>\n",
       "      <td>False</td>\n",
       "      <td>2</td>\n",
       "      <td>https://stackoverflow.blog/2021/02/16/level-up...</td>\n",
       "      <td>[]</td>\n",
       "      <td>Level Up: Mastering statistics with Python</td>\n",
       "      <td>2020-08-08</td>\n",
       "      <td>97</td>\n",
       "    </tr>\n",
       "    <tr>\n",
       "      <th>2</th>\n",
       "      <td>2020-08-08</td>\n",
       "      <td>1.596889e+09</td>\n",
       "      <td>False</td>\n",
       "      <td>3</td>\n",
       "      <td>https://stackoverflow.com/questions/10973766/u...</td>\n",
       "      <td>[]</td>\n",
       "      <td>Understanding the map function</td>\n",
       "      <td>2020-08-08</td>\n",
       "      <td>48</td>\n",
       "    </tr>\n",
       "    <tr>\n",
       "      <th>3</th>\n",
       "      <td>2021-08-07</td>\n",
       "      <td>1.628353e+09</td>\n",
       "      <td>False</td>\n",
       "      <td>6</td>\n",
       "      <td>https://stackoverflow.blog/2014/09/16/introduc...</td>\n",
       "      <td>[]</td>\n",
       "      <td>Introducing Runnable JavaScript, CSS, and HTML...</td>\n",
       "      <td>2021-08-07</td>\n",
       "      <td>48</td>\n",
       "    </tr>\n",
       "    <tr>\n",
       "      <th>4</th>\n",
       "      <td>2021-08-08</td>\n",
       "      <td>1.628382e+09</td>\n",
       "      <td>False</td>\n",
       "      <td>9</td>\n",
       "      <td>https://stackoverflow.com/questions/39858161/t...</td>\n",
       "      <td>[]</td>\n",
       "      <td>python - TypeError: Expected bytes in Flask ap...</td>\n",
       "      <td>2021-08-08</td>\n",
       "      <td>48</td>\n",
       "    </tr>\n",
       "  </tbody>\n",
       "</table>\n",
       "</div>"
      ],
      "text/plain": [
       "   created_at  created_at_timestamp  isPrivate  la_id  \\\n",
       "0  2020-08-07          1.596792e+09      False      1   \n",
       "1  2020-08-08          1.596852e+09      False      2   \n",
       "2  2020-08-08          1.596889e+09      False      3   \n",
       "3  2021-08-07          1.628353e+09      False      6   \n",
       "4  2021-08-08          1.628382e+09      False      9   \n",
       "\n",
       "                                                link tag_ids  \\\n",
       "0  https://stackoverflow.com/questions/68683443/a...      []   \n",
       "1  https://stackoverflow.blog/2021/02/16/level-up...      []   \n",
       "2  https://stackoverflow.com/questions/10973766/u...      []   \n",
       "3  https://stackoverflow.blog/2014/09/16/introduc...      []   \n",
       "4  https://stackoverflow.com/questions/39858161/t...      []   \n",
       "\n",
       "                                               title  updated_at  user_id  \n",
       "0                Airflow Docker Module install issue  2020-08-07       97  \n",
       "1         Level Up: Mastering statistics with Python  2020-08-08       97  \n",
       "2                     Understanding the map function  2020-08-08       48  \n",
       "3  Introducing Runnable JavaScript, CSS, and HTML...  2021-08-07       48  \n",
       "4  python - TypeError: Expected bytes in Flask ap...  2021-08-08       48  "
      ]
     },
     "execution_count": 73,
     "metadata": {},
     "output_type": "execute_result"
    }
   ],
   "source": [
    "df.head(5)"
   ]
  },
  {
   "cell_type": "code",
   "execution_count": 74,
   "id": "5708794c-8c9a-47f1-bb79-86c7d82391e9",
   "metadata": {},
   "outputs": [
    {
     "ename": "SyntaxError",
     "evalue": "expression cannot contain assignment, perhaps you meant \"==\"? (4264432919.py, line 1)",
     "output_type": "error",
     "traceback": [
      "\u001b[0;36m  Cell \u001b[0;32mIn[74], line 1\u001b[0;36m\u001b[0m\n\u001b[0;31m    df.groupby('Column' = 'Website')\u001b[0m\n\u001b[0m               ^\u001b[0m\n\u001b[0;31mSyntaxError\u001b[0m\u001b[0;31m:\u001b[0m expression cannot contain assignment, perhaps you meant \"==\"?\n"
     ]
    }
   ],
   "source": [
    "df['website'] = df['link'].apply(lambda :row.str.count( "
   ]
  },
  {
   "cell_type": "code",
   "execution_count": 75,
   "id": "0afe9117-dba4-469b-b3c4-2a79a66de9cd",
   "metadata": {},
   "outputs": [],
   "source": [
    "#df.groupby('website')"
   ]
  },
  {
   "cell_type": "code",
   "execution_count": 15,
   "id": "fb9c4dfa-f710-4cc2-a968-7fba1313ac2b",
   "metadata": {},
   "outputs": [],
   "source": [
    "#df.sort_values(by = 'Column 5' ,ascending = True , inplace = True)"
   ]
  },
  {
   "cell_type": "code",
   "execution_count": 14,
   "id": "92fc1c64-7d3a-4bec-8099-8d6f04312690",
   "metadata": {},
   "outputs": [],
   "source": [
    "df.sort_values(by = 'link' ,ascending = True , inplace = True)"
   ]
  },
  {
   "cell_type": "code",
   "execution_count": 16,
   "id": "ae72ee71-697a-4bdb-b648-d0ee557ac2b7",
   "metadata": {},
   "outputs": [
    {
     "ename": "NameError",
     "evalue": "name 'count_links' is not defined",
     "output_type": "error",
     "traceback": [
      "\u001b[0;31m---------------------------------------------------------------------------\u001b[0m",
      "\u001b[0;31mNameError\u001b[0m                                 Traceback (most recent call last)",
      "Cell \u001b[0;32mIn[16], line 1\u001b[0m\n\u001b[0;32m----> 1\u001b[0m df[\u001b[38;5;124m'\u001b[39m\u001b[38;5;124mlink_count\u001b[39m\u001b[38;5;124m'\u001b[39m] \u001b[38;5;241m=\u001b[39m df\u001b[38;5;241m.\u001b[39mapply(\u001b[43mcount_links\u001b[49m, axis \u001b[38;5;241m=\u001b[39m \u001b[38;5;241m1\u001b[39m)\n",
      "\u001b[0;31mNameError\u001b[0m: name 'count_links' is not defined"
     ]
    }
   ],
   "source": [
    "#df['link_count'] = df.apply(count_links, axis = 1)"
   ]
  },
  {
   "cell_type": "code",
   "execution_count": 17,
   "id": "19591fc9-9f6d-4551-a143-a34e51e20849",
   "metadata": {},
   "outputs": [
    {
     "ename": "NameError",
     "evalue": "name 'links' is not defined",
     "output_type": "error",
     "traceback": [
      "\u001b[0;31m---------------------------------------------------------------------------\u001b[0m",
      "\u001b[0;31mNameError\u001b[0m                                 Traceback (most recent call last)",
      "Cell \u001b[0;32mIn[17], line 1\u001b[0m\n\u001b[0;32m----> 1\u001b[0m df[\u001b[38;5;124m'\u001b[39m\u001b[38;5;124mlink_count\u001b[39m\u001b[38;5;124m'\u001b[39m] \u001b[38;5;241m=\u001b[39m df\u001b[38;5;241m.\u001b[39mapply(\u001b[43mlinks\u001b[49m, axis \u001b[38;5;241m=\u001b[39m \u001b[38;5;241m1\u001b[39m)\n",
      "\u001b[0;31mNameError\u001b[0m: name 'links' is not defined"
     ]
    }
   ],
   "source": [
    "df['link_count'] = df.apply(links, axis = 1)"
   ]
  },
  {
   "cell_type": "code",
   "execution_count": 18,
   "id": "e79dd9a2-0aac-4a98-8530-bc464dde2a03",
   "metadata": {},
   "outputs": [
    {
     "ename": "NameError",
     "evalue": "name 'link' is not defined",
     "output_type": "error",
     "traceback": [
      "\u001b[0;31m---------------------------------------------------------------------------\u001b[0m",
      "\u001b[0;31mNameError\u001b[0m                                 Traceback (most recent call last)",
      "Cell \u001b[0;32mIn[18], line 1\u001b[0m\n\u001b[0;32m----> 1\u001b[0m df[\u001b[38;5;124m'\u001b[39m\u001b[38;5;124mlink_count\u001b[39m\u001b[38;5;124m'\u001b[39m] \u001b[38;5;241m=\u001b[39m df\u001b[38;5;241m.\u001b[39mapply(\u001b[43mlink\u001b[49m, axis \u001b[38;5;241m=\u001b[39m \u001b[38;5;241m1\u001b[39m)\n",
      "\u001b[0;31mNameError\u001b[0m: name 'link' is not defined"
     ]
    }
   ],
   "source": [
    "df['link_count'] = df.apply(link, axis = 1)"
   ]
  },
  {
   "cell_type": "code",
   "execution_count": 22,
   "id": "082002ea-f0c5-4d9e-b586-89d42165ea5f",
   "metadata": {},
   "outputs": [],
   "source": [
    "df['link'] = df.apply(lambda row: row.str.count('http').sum(), axis=1)"
   ]
  },
  {
   "cell_type": "code",
   "execution_count": 23,
   "id": "6f9117b3-43ac-401e-be26-25fd2e67f81d",
   "metadata": {},
   "outputs": [],
   "source": [
    "filtered_df = df[(df['link'] >= 50) & (df['link'] <= 100)]"
   ]
  },
  {
   "cell_type": "code",
   "execution_count": 24,
   "id": "68ab7e66-394a-496e-8a49-dc9a986fb8aa",
   "metadata": {},
   "outputs": [
    {
     "name": "stdout",
     "output_type": "stream",
     "text": [
      "Empty DataFrame\n",
      "Columns: [created_at, created_at_timestamp, isPrivate, la_id, link, tag_ids, title, updated_at, user_id, link_count]\n",
      "Index: []\n"
     ]
    }
   ],
   "source": [
    "print(filtered_df)"
   ]
  },
  {
   "cell_type": "code",
   "execution_count": 25,
   "id": "b7b0db20-5e0d-4f32-9161-c9d13a97dd18",
   "metadata": {},
   "outputs": [
    {
     "name": "stdout",
     "output_type": "stream",
     "text": [
      "Empty DataFrame\n",
      "Columns: [created_at, created_at_timestamp, isPrivate, la_id, link, tag_ids, title, updated_at, user_id, link_count]\n",
      "Index: []\n"
     ]
    }
   ],
   "source": [
    "print(filtered_df)"
   ]
  },
  {
   "cell_type": "code",
   "execution_count": 26,
   "id": "780afe87-c629-4a4f-bd21-68d644c00f10",
   "metadata": {},
   "outputs": [
    {
     "name": "stdout",
     "output_type": "stream",
     "text": [
      "Initial DataFrame:\n"
     ]
    }
   ],
   "source": [
    "print(\"Initial DataFrame:\")"
   ]
  },
  {
   "cell_type": "code",
   "execution_count": 27,
   "id": "1606b804-7f99-4619-870d-676c7e10a6c3",
   "metadata": {},
   "outputs": [
    {
     "name": "stdout",
     "output_type": "stream",
     "text": [
      "       created_at  created_at_timestamp  isPrivate  la_id  link tag_ids  \\\n",
      "15108  2022-04-16          1.650131e+09      False  15627   1.0      []   \n",
      "1918   2021-05-07          1.620362e+09      False   1940   0.0      []   \n",
      "3375   2021-09-09          1.631192e+09      False   3494   0.0      []   \n",
      "28858  2023-11-21          1.700590e+09      False  29711   0.0      []   \n",
      "20823  2022-09-26          1.664202e+09      False  21490   0.0      []   \n",
      "\n",
      "                       title  updated_at  user_id  link_count  \n",
      "15108  Screen Capture Result  2022-04-16      280         1.0  \n",
      "1918                 Welcome  2021-05-07       57         0.0  \n",
      "3375              Extensions  2021-09-09      157         0.0  \n",
      "28858             Extensions  2023-11-21      286         0.0  \n",
      "20823             Extensions  2022-09-26      974         0.0  \n"
     ]
    }
   ],
   "source": [
    "print(df.head())"
   ]
  },
  {
   "cell_type": "code",
   "execution_count": 33,
   "id": "6f820b9b-38d8-4a6d-8b08-f84a3ae153ef",
   "metadata": {},
   "outputs": [],
   "source": [
    "df['link_count'] = df.apply(lambda row: row.str.count('http').sum() + row.str.count('https').sum(), axis=1)"
   ]
  },
  {
   "cell_type": "code",
   "execution_count": 34,
   "id": "4c09f51f-e0c7-4382-b322-02d5b166c19a",
   "metadata": {},
   "outputs": [],
   "source": [
    "#print(df['link_count'].describe())"
   ]
  },
  {
   "cell_type": "code",
   "execution_count": 35,
   "id": "531995f0-b73c-4ecf-a148-9647d18433f0",
   "metadata": {},
   "outputs": [],
   "source": [
    "#print(df[['link_count']])\n"
   ]
  },
  {
   "cell_type": "code",
   "execution_count": 36,
   "id": "f9bbd5d9-bd52-48df-a595-136e981ac65a",
   "metadata": {},
   "outputs": [
    {
     "name": "stdout",
     "output_type": "stream",
     "text": [
      "\n",
      "Link Count Distribution:\n"
     ]
    }
   ],
   "source": [
    "print(\"\\nLink Count Distribution:\")"
   ]
  },
  {
   "cell_type": "code",
   "execution_count": 37,
   "id": "41e120fa-3df3-4b5e-b16c-9554c0f0a9fb",
   "metadata": {},
   "outputs": [
    {
     "name": "stdout",
     "output_type": "stream",
     "text": [
      "count    28926.000000\n",
      "mean         0.012515\n",
      "std          0.192645\n",
      "min          0.000000\n",
      "25%          0.000000\n",
      "50%          0.000000\n",
      "75%          0.000000\n",
      "max          8.000000\n",
      "Name: link_count, dtype: float64\n"
     ]
    }
   ],
   "source": [
    "print(df['link_count'].describe())"
   ]
  },
  {
   "cell_type": "code",
   "execution_count": 38,
   "id": "4df76aa6-776f-4a6e-8aa8-6871b511a4f8",
   "metadata": {},
   "outputs": [],
   "source": [
    "filtered_df = df[(df['link_count'] >= 50) & (df['link_count'] <= 100)]"
   ]
  },
  {
   "cell_type": "code",
   "execution_count": 39,
   "id": "7bc6c672-36ac-417e-8548-d0b715d93638",
   "metadata": {},
   "outputs": [
    {
     "name": "stdout",
     "output_type": "stream",
     "text": [
      "\n",
      "Filtered DataFrame:\n"
     ]
    }
   ],
   "source": [
    "print(\"\\nFiltered DataFrame:\")"
   ]
  },
  {
   "cell_type": "code",
   "execution_count": 40,
   "id": "d0d44e41-4a67-4d1a-9414-4b2578a093d7",
   "metadata": {},
   "outputs": [
    {
     "name": "stdout",
     "output_type": "stream",
     "text": [
      "Empty DataFrame\n",
      "Columns: [created_at, created_at_timestamp, isPrivate, la_id, link, tag_ids, title, updated_at, user_id, link_count]\n",
      "Index: []\n"
     ]
    }
   ],
   "source": [
    "print(filtered_df)"
   ]
  },
  {
   "cell_type": "code",
   "execution_count": 41,
   "id": "daa9baf9-7ba7-41d7-b6fe-490a09a5242f",
   "metadata": {},
   "outputs": [],
   "source": [
    "df['link_count'] = df.apply(lambda row: row.str.count('http').sum() + row.str.count('https').sum(), axis=1)"
   ]
  },
  {
   "cell_type": "code",
   "execution_count": 42,
   "id": "178c60ec-9eeb-4136-986d-3730db5c5de0",
   "metadata": {},
   "outputs": [],
   "source": [
    "user_link_counts = df.groupby('user_id')['link_count'].sum().reset_index()"
   ]
  },
  {
   "cell_type": "code",
   "execution_count": 43,
   "id": "88ea83e4-d271-45f4-89e6-1e6a169cc767",
   "metadata": {},
   "outputs": [],
   "source": [
    "filtered_users = user_link_counts[(user_link_counts['link_count'] >= 50) & (user_link_counts['link_count'] <= 100)]"
   ]
  },
  {
   "cell_type": "code",
   "execution_count": 44,
   "id": "69e8a3eb-af61-4e4a-a2c5-2bc8d5d8521e",
   "metadata": {},
   "outputs": [
    {
     "name": "stdout",
     "output_type": "stream",
     "text": [
      "    user_id  link_count\n",
      "3        19        64.0\n",
      "40      130        55.0\n"
     ]
    }
   ],
   "source": [
    "print(filtered_users)"
   ]
  },
  {
   "cell_type": "code",
   "execution_count": 46,
   "id": "08281caa-668b-445b-94b3-48d219f93cd6",
   "metadata": {},
   "outputs": [],
   "source": [
    "#df['link_count'] = df.apply(lambda row: row.str.count('.com').sum() + row.str.count('.in').sum(), axis=1)"
   ]
  },
  {
   "cell_type": "code",
   "execution_count": 48,
   "id": "1d6ce3dc-cab1-4cae-8e38-56e85d0a3258",
   "metadata": {},
   "outputs": [
    {
     "ename": "KeyError",
     "evalue": "'.com'",
     "output_type": "error",
     "traceback": [
      "\u001b[0;31m---------------------------------------------------------------------------\u001b[0m",
      "\u001b[0;31mKeyError\u001b[0m                                  Traceback (most recent call last)",
      "File \u001b[0;32m/opt/homebrew/Caskroom/miniconda/base/envs/py312/lib/python3.12/site-packages/pandas/core/indexes/base.py:3805\u001b[0m, in \u001b[0;36mIndex.get_loc\u001b[0;34m(self, key)\u001b[0m\n\u001b[1;32m   3804\u001b[0m \u001b[38;5;28;01mtry\u001b[39;00m:\n\u001b[0;32m-> 3805\u001b[0m     \u001b[38;5;28;01mreturn\u001b[39;00m \u001b[38;5;28;43mself\u001b[39;49m\u001b[38;5;241;43m.\u001b[39;49m\u001b[43m_engine\u001b[49m\u001b[38;5;241;43m.\u001b[39;49m\u001b[43mget_loc\u001b[49m\u001b[43m(\u001b[49m\u001b[43mcasted_key\u001b[49m\u001b[43m)\u001b[49m\n\u001b[1;32m   3806\u001b[0m \u001b[38;5;28;01mexcept\u001b[39;00m \u001b[38;5;167;01mKeyError\u001b[39;00m \u001b[38;5;28;01mas\u001b[39;00m err:\n",
      "File \u001b[0;32mindex.pyx:167\u001b[0m, in \u001b[0;36mpandas._libs.index.IndexEngine.get_loc\u001b[0;34m()\u001b[0m\n",
      "File \u001b[0;32mindex.pyx:196\u001b[0m, in \u001b[0;36mpandas._libs.index.IndexEngine.get_loc\u001b[0;34m()\u001b[0m\n",
      "File \u001b[0;32mpandas/_libs/hashtable_class_helper.pxi:7081\u001b[0m, in \u001b[0;36mpandas._libs.hashtable.PyObjectHashTable.get_item\u001b[0;34m()\u001b[0m\n",
      "File \u001b[0;32mpandas/_libs/hashtable_class_helper.pxi:7089\u001b[0m, in \u001b[0;36mpandas._libs.hashtable.PyObjectHashTable.get_item\u001b[0;34m()\u001b[0m\n",
      "\u001b[0;31mKeyError\u001b[0m: '.com'",
      "\nThe above exception was the direct cause of the following exception:\n",
      "\u001b[0;31mKeyError\u001b[0m                                  Traceback (most recent call last)",
      "Cell \u001b[0;32mIn[48], line 1\u001b[0m\n\u001b[0;32m----> 1\u001b[0m df[\u001b[38;5;124m'\u001b[39m\u001b[38;5;124mcom_count\u001b[39m\u001b[38;5;124m'\u001b[39m] \u001b[38;5;241m=\u001b[39m \u001b[43mdf\u001b[49m\u001b[43m[\u001b[49m\u001b[38;5;124;43m'\u001b[39;49m\u001b[38;5;124;43m.com\u001b[39;49m\u001b[38;5;124;43m'\u001b[39;49m\u001b[43m]\u001b[49m\u001b[38;5;241m.\u001b[39mstr\u001b[38;5;241m.\u001b[39mcount(\u001b[38;5;124mr\u001b[39m\u001b[38;5;124m'\u001b[39m\u001b[38;5;124m\\\u001b[39m\u001b[38;5;124m.com\u001b[39m\u001b[38;5;124m'\u001b[39m)\n",
      "File \u001b[0;32m/opt/homebrew/Caskroom/miniconda/base/envs/py312/lib/python3.12/site-packages/pandas/core/frame.py:4102\u001b[0m, in \u001b[0;36mDataFrame.__getitem__\u001b[0;34m(self, key)\u001b[0m\n\u001b[1;32m   4100\u001b[0m \u001b[38;5;28;01mif\u001b[39;00m \u001b[38;5;28mself\u001b[39m\u001b[38;5;241m.\u001b[39mcolumns\u001b[38;5;241m.\u001b[39mnlevels \u001b[38;5;241m>\u001b[39m \u001b[38;5;241m1\u001b[39m:\n\u001b[1;32m   4101\u001b[0m     \u001b[38;5;28;01mreturn\u001b[39;00m \u001b[38;5;28mself\u001b[39m\u001b[38;5;241m.\u001b[39m_getitem_multilevel(key)\n\u001b[0;32m-> 4102\u001b[0m indexer \u001b[38;5;241m=\u001b[39m \u001b[38;5;28;43mself\u001b[39;49m\u001b[38;5;241;43m.\u001b[39;49m\u001b[43mcolumns\u001b[49m\u001b[38;5;241;43m.\u001b[39;49m\u001b[43mget_loc\u001b[49m\u001b[43m(\u001b[49m\u001b[43mkey\u001b[49m\u001b[43m)\u001b[49m\n\u001b[1;32m   4103\u001b[0m \u001b[38;5;28;01mif\u001b[39;00m is_integer(indexer):\n\u001b[1;32m   4104\u001b[0m     indexer \u001b[38;5;241m=\u001b[39m [indexer]\n",
      "File \u001b[0;32m/opt/homebrew/Caskroom/miniconda/base/envs/py312/lib/python3.12/site-packages/pandas/core/indexes/base.py:3812\u001b[0m, in \u001b[0;36mIndex.get_loc\u001b[0;34m(self, key)\u001b[0m\n\u001b[1;32m   3807\u001b[0m     \u001b[38;5;28;01mif\u001b[39;00m \u001b[38;5;28misinstance\u001b[39m(casted_key, \u001b[38;5;28mslice\u001b[39m) \u001b[38;5;129;01mor\u001b[39;00m (\n\u001b[1;32m   3808\u001b[0m         \u001b[38;5;28misinstance\u001b[39m(casted_key, abc\u001b[38;5;241m.\u001b[39mIterable)\n\u001b[1;32m   3809\u001b[0m         \u001b[38;5;129;01mand\u001b[39;00m \u001b[38;5;28many\u001b[39m(\u001b[38;5;28misinstance\u001b[39m(x, \u001b[38;5;28mslice\u001b[39m) \u001b[38;5;28;01mfor\u001b[39;00m x \u001b[38;5;129;01min\u001b[39;00m casted_key)\n\u001b[1;32m   3810\u001b[0m     ):\n\u001b[1;32m   3811\u001b[0m         \u001b[38;5;28;01mraise\u001b[39;00m InvalidIndexError(key)\n\u001b[0;32m-> 3812\u001b[0m     \u001b[38;5;28;01mraise\u001b[39;00m \u001b[38;5;167;01mKeyError\u001b[39;00m(key) \u001b[38;5;28;01mfrom\u001b[39;00m \u001b[38;5;21;01merr\u001b[39;00m\n\u001b[1;32m   3813\u001b[0m \u001b[38;5;28;01mexcept\u001b[39;00m \u001b[38;5;167;01mTypeError\u001b[39;00m:\n\u001b[1;32m   3814\u001b[0m     \u001b[38;5;66;03m# If we have a listlike key, _check_indexing_error will raise\u001b[39;00m\n\u001b[1;32m   3815\u001b[0m     \u001b[38;5;66;03m#  InvalidIndexError. Otherwise we fall through and re-raise\u001b[39;00m\n\u001b[1;32m   3816\u001b[0m     \u001b[38;5;66;03m#  the TypeError.\u001b[39;00m\n\u001b[1;32m   3817\u001b[0m     \u001b[38;5;28mself\u001b[39m\u001b[38;5;241m.\u001b[39m_check_indexing_error(key)\n",
      "\u001b[0;31mKeyError\u001b[0m: '.com'"
     ]
    }
   ],
   "source": [
    "df['com_count'] = df['.com'].str.count(r'\\.com')"
   ]
  },
  {
   "cell_type": "code",
   "execution_count": 49,
   "id": "628dca93-1754-4faa-8876-29dc25fbd454",
   "metadata": {},
   "outputs": [
    {
     "name": "stdout",
     "output_type": "stream",
     "text": [
      "[Errno 2] No such file or directory: 'tact'\n",
      "/Users/madhuriankaraboyina/madhuri-space/python-basics\n"
     ]
    },
    {
     "name": "stderr",
     "output_type": "stream",
     "text": [
      "/opt/homebrew/Caskroom/miniconda/base/envs/py312/lib/python3.12/site-packages/IPython/core/magics/osm.py:393: UserWarning: This is now an optional IPython functionality, using bookmarks requires you to install the `pickleshare` library.\n",
      "  bkms = self.shell.db.get('bookmarks', {})\n"
     ]
    }
   ],
   "source": [
    "cd tact"
   ]
  },
  {
   "cell_type": "code",
   "execution_count": 50,
   "id": "91b76730-783a-4371-ae24-fd456cb09180",
   "metadata": {},
   "outputs": [
    {
     "data": {
      "text/plain": [
       "'/Users/madhuriankaraboyina/madhuri-space/python-basics'"
      ]
     },
     "execution_count": 50,
     "metadata": {},
     "output_type": "execute_result"
    }
   ],
   "source": [
    "pwd"
   ]
  },
  {
   "cell_type": "code",
   "execution_count": null,
   "id": "bdc0f1df-f00d-433d-af4d-7d71ae2a23b3",
   "metadata": {},
   "outputs": [],
   "source": []
  },
  {
   "cell_type": "code",
   "execution_count": 52,
   "id": "47abf6cf-c6b2-40de-b53e-62765af5755e",
   "metadata": {},
   "outputs": [],
   "source": [
    "!git add ."
   ]
  },
  {
   "cell_type": "code",
   "execution_count": 53,
   "id": "f105a73f-7b85-421e-93f3-4aa8908d3afd",
   "metadata": {},
   "outputs": [
    {
     "name": "stdout",
     "output_type": "stream",
     "text": [
      "[main 21c181e]  pandas basic\n",
      " 9 files changed, 1060 insertions(+)\n",
      " create mode 100644 .ipynb_checkpoints/Untitled-checkpoint.ipynb\n",
      " create mode 100644 .ipynb_checkpoints/la-analysis-checkpoint.ipynb\n",
      " create mode 100644 Untitled.ipynb\n",
      " create mode 100644 descendingorder.py\n",
      " create mode 100644 evennumbers.py\n",
      " create mode 100644 la-analysis.ipynb\n",
      " create mode 100644 multipy.py\n",
      " create mode 100644 oddnumbers.py\n",
      " create mode 100644 sum_of_numbers.py\n"
     ]
    }
   ],
   "source": [
    "!git commit -m \" pandas basic\""
   ]
  },
  {
   "cell_type": "code",
   "execution_count": 54,
   "id": "5dc7f68b-9033-4a98-b548-ed74d7fbc95c",
   "metadata": {},
   "outputs": [
    {
     "name": "stdout",
     "output_type": "stream",
     "text": [
      "Enumerating objects: 12, done.\n",
      "Counting objects: 100% (12/12), done.\n",
      "Delta compression using up to 8 threads\n",
      "Compressing objects: 100% (11/11), done.\n",
      "Writing objects: 100% (11/11), 7.56 KiB | 1.89 MiB/s, done.\n",
      "Total 11 (delta 0), reused 0 (delta 0), pack-reused 0\n",
      "To github.com:madhuriankara/python-basics.git\n",
      "   3b71cc8..21c181e  main -> main\n"
     ]
    }
   ],
   "source": [
    "!git push"
   ]
  },
  {
   "cell_type": "code",
   "execution_count": 63,
   "id": "45d392fb-45f4-4fe4-ad68-34fe7405965f",
   "metadata": {},
   "outputs": [],
   "source": [
    "#link_counts = df['http:'].str.findall(r'https?://\\S+').explode().value_counts()"
   ]
  },
  {
   "cell_type": "code",
   "execution_count": 62,
   "id": "0bda3ba2-a24d-40f5-8942-ef361b0c37c1",
   "metadata": {},
   "outputs": [],
   "source": [
    "#link_counts = df['website'].str.findall(r'https?://\\S+').explode().value_counts()"
   ]
  },
  {
   "cell_type": "code",
   "execution_count": 61,
   "id": "0a02c01d-f100-4dd9-9124-088395e3ecf9",
   "metadata": {},
   "outputs": [],
   "source": [
    "#filtered_links = link_counts[(link_counts >= 50) & (link_counts <= 100)]"
   ]
  },
  {
   "cell_type": "code",
   "execution_count": 60,
   "id": "075f3920-5318-46b1-a757-c9bced2353a2",
   "metadata": {},
   "outputs": [],
   "source": [
    "#link_counts = df['website_info'].str.findall(r'https?://\\S+').explode().value_counts()"
   ]
  },
  {
   "cell_type": "code",
   "execution_count": null,
   "id": "41d0496f-50fd-4e80-9a82-ef62547ed1ce",
   "metadata": {},
   "outputs": [],
   "source": []
  }
 ],
 "metadata": {
  "kernelspec": {
   "display_name": "Python 3 (ipykernel)",
   "language": "python",
   "name": "python3"
  },
  "language_info": {
   "codemirror_mode": {
    "name": "ipython",
    "version": 3
   },
   "file_extension": ".py",
   "mimetype": "text/x-python",
   "name": "python",
   "nbconvert_exporter": "python",
   "pygments_lexer": "ipython3",
   "version": "3.12.7"
  }
 },
 "nbformat": 4,
 "nbformat_minor": 5
}
