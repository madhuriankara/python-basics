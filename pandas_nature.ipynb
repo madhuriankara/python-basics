{
 "cells": [
  {
   "cell_type": "code",
   "execution_count": 1,
   "id": "b2018fc7-39fa-42e7-a2e5-70674d55a3a5",
   "metadata": {},
   "outputs": [],
   "source": [
    "#Creating a list with respect to nature"
   ]
  },
  {
   "cell_type": "code",
   "execution_count": 2,
   "id": "05205a1a-07c9-474b-be70-5cf1aa6963f5",
   "metadata": {},
   "outputs": [],
   "source": [
    "Nature_list = ['Trees','Rivers','Mountains','Sky','Forest']"
   ]
  },
  {
   "cell_type": "code",
   "execution_count": 3,
   "id": "91c4fb36-ff28-4ff8-9a8b-fd07b48babbb",
   "metadata": {},
   "outputs": [
    {
     "data": {
      "text/plain": [
       "['Trees', 'Rivers', 'Mountains', 'Sky', 'Forest']"
      ]
     },
     "execution_count": 3,
     "metadata": {},
     "output_type": "execute_result"
    }
   ],
   "source": [
    "Nature_list"
   ]
  },
  {
   "cell_type": "code",
   "execution_count": 4,
   "id": "7da5466c-11b1-4319-840e-65bb4432bab4",
   "metadata": {},
   "outputs": [
    {
     "data": {
      "text/plain": [
       "list"
      ]
     },
     "execution_count": 4,
     "metadata": {},
     "output_type": "execute_result"
    }
   ],
   "source": [
    "type(Nature_list)"
   ]
  },
  {
   "cell_type": "code",
   "execution_count": 5,
   "id": "86486a27-bcb9-459a-be73-d364d9b4c58f",
   "metadata": {},
   "outputs": [],
   "source": [
    "import pandas as pd"
   ]
  },
  {
   "cell_type": "code",
   "execution_count": 6,
   "id": "a555506f-f0d5-4a99-ac00-1bb7db19c664",
   "metadata": {},
   "outputs": [],
   "source": [
    "#We can create series from list, dic, int, string "
   ]
  },
  {
   "cell_type": "code",
   "execution_count": 7,
   "id": "c58729ce-6526-43cc-8647-d399b92a86aa",
   "metadata": {},
   "outputs": [],
   "source": [
    "nature = pd.Series(Nature_list)"
   ]
  },
  {
   "cell_type": "code",
   "execution_count": 8,
   "id": "bfb3240f-2f15-42cc-9b34-5bdfdada1065",
   "metadata": {},
   "outputs": [
    {
     "data": {
      "text/plain": [
       "0        Trees\n",
       "1       Rivers\n",
       "2    Mountains\n",
       "3          Sky\n",
       "4       Forest\n",
       "dtype: object"
      ]
     },
     "execution_count": 8,
     "metadata": {},
     "output_type": "execute_result"
    }
   ],
   "source": [
    "nature"
   ]
  },
  {
   "cell_type": "code",
   "execution_count": 9,
   "id": "8cf33050-0fb2-4ce0-be08-c4b795f959c7",
   "metadata": {},
   "outputs": [
    {
     "data": {
      "text/plain": [
       "pandas.core.series.Series"
      ]
     },
     "execution_count": 9,
     "metadata": {},
     "output_type": "execute_result"
    }
   ],
   "source": [
    "type(nature)"
   ]
  },
  {
   "cell_type": "code",
   "execution_count": 10,
   "id": "3adcf887-8679-4dfa-822a-b7a3f20e969f",
   "metadata": {},
   "outputs": [],
   "source": [
    "# We have to convert the series to dataframe"
   ]
  },
  {
   "cell_type": "code",
   "execution_count": 12,
   "id": "d7dd679f-66e8-4a09-9c4b-385f932dd5dd",
   "metadata": {},
   "outputs": [],
   "source": [
    "df =nature.to_frame()"
   ]
  },
  {
   "cell_type": "code",
   "execution_count": 13,
   "id": "994b1ec0-14cc-4e00-b36d-3a6474294ba1",
   "metadata": {},
   "outputs": [
    {
     "data": {
      "text/html": [
       "<div>\n",
       "<style scoped>\n",
       "    .dataframe tbody tr th:only-of-type {\n",
       "        vertical-align: middle;\n",
       "    }\n",
       "\n",
       "    .dataframe tbody tr th {\n",
       "        vertical-align: top;\n",
       "    }\n",
       "\n",
       "    .dataframe thead th {\n",
       "        text-align: right;\n",
       "    }\n",
       "</style>\n",
       "<table border=\"1\" class=\"dataframe\">\n",
       "  <thead>\n",
       "    <tr style=\"text-align: right;\">\n",
       "      <th></th>\n",
       "      <th>0</th>\n",
       "    </tr>\n",
       "  </thead>\n",
       "  <tbody>\n",
       "    <tr>\n",
       "      <th>0</th>\n",
       "      <td>Trees</td>\n",
       "    </tr>\n",
       "    <tr>\n",
       "      <th>1</th>\n",
       "      <td>Rivers</td>\n",
       "    </tr>\n",
       "    <tr>\n",
       "      <th>2</th>\n",
       "      <td>Mountains</td>\n",
       "    </tr>\n",
       "    <tr>\n",
       "      <th>3</th>\n",
       "      <td>Sky</td>\n",
       "    </tr>\n",
       "    <tr>\n",
       "      <th>4</th>\n",
       "      <td>Forest</td>\n",
       "    </tr>\n",
       "  </tbody>\n",
       "</table>\n",
       "</div>"
      ],
      "text/plain": [
       "           0\n",
       "0      Trees\n",
       "1     Rivers\n",
       "2  Mountains\n",
       "3        Sky\n",
       "4     Forest"
      ]
     },
     "execution_count": 13,
     "metadata": {},
     "output_type": "execute_result"
    }
   ],
   "source": [
    "df"
   ]
  },
  {
   "cell_type": "code",
   "execution_count": 14,
   "id": "5a736111-7bb7-4da0-8e76-1e56dfce75a1",
   "metadata": {},
   "outputs": [],
   "source": [
    "# Giving a name to column"
   ]
  },
  {
   "cell_type": "code",
   "execution_count": 18,
   "id": "5575642a-9019-48cb-a096-fec635e7f30d",
   "metadata": {},
   "outputs": [],
   "source": [
    "df = pd.DataFrame(Nature_list , columns = [\"Scenery\"])"
   ]
  },
  {
   "cell_type": "code",
   "execution_count": 19,
   "id": "1b2e2424-1121-4de5-ba9c-e994901f4b00",
   "metadata": {},
   "outputs": [
    {
     "data": {
      "text/html": [
       "<div>\n",
       "<style scoped>\n",
       "    .dataframe tbody tr th:only-of-type {\n",
       "        vertical-align: middle;\n",
       "    }\n",
       "\n",
       "    .dataframe tbody tr th {\n",
       "        vertical-align: top;\n",
       "    }\n",
       "\n",
       "    .dataframe thead th {\n",
       "        text-align: right;\n",
       "    }\n",
       "</style>\n",
       "<table border=\"1\" class=\"dataframe\">\n",
       "  <thead>\n",
       "    <tr style=\"text-align: right;\">\n",
       "      <th></th>\n",
       "      <th>Scenery</th>\n",
       "    </tr>\n",
       "  </thead>\n",
       "  <tbody>\n",
       "    <tr>\n",
       "      <th>0</th>\n",
       "      <td>Trees</td>\n",
       "    </tr>\n",
       "    <tr>\n",
       "      <th>1</th>\n",
       "      <td>Rivers</td>\n",
       "    </tr>\n",
       "    <tr>\n",
       "      <th>2</th>\n",
       "      <td>Mountains</td>\n",
       "    </tr>\n",
       "    <tr>\n",
       "      <th>3</th>\n",
       "      <td>Sky</td>\n",
       "    </tr>\n",
       "    <tr>\n",
       "      <th>4</th>\n",
       "      <td>Forest</td>\n",
       "    </tr>\n",
       "  </tbody>\n",
       "</table>\n",
       "</div>"
      ],
      "text/plain": [
       "     Scenery\n",
       "0      Trees\n",
       "1     Rivers\n",
       "2  Mountains\n",
       "3        Sky\n",
       "4     Forest"
      ]
     },
     "execution_count": 19,
     "metadata": {},
     "output_type": "execute_result"
    }
   ],
   "source": [
    "df"
   ]
  },
  {
   "cell_type": "code",
   "execution_count": 20,
   "id": "4f187849-d1bc-46e2-873a-d4b12a68854e",
   "metadata": {},
   "outputs": [],
   "source": [
    "# if you want to create another column then"
   ]
  },
  {
   "cell_type": "code",
   "execution_count": 21,
   "id": "31626a3b-48d7-459e-9a8c-63c00b3236e8",
   "metadata": {},
   "outputs": [],
   "source": [
    "df['Properties'] = ['Land','Water','Huge','Blue','Green']"
   ]
  },
  {
   "cell_type": "code",
   "execution_count": 22,
   "id": "8f56ada7-46b6-42f6-aae3-7fb1dddc9596",
   "metadata": {},
   "outputs": [
    {
     "data": {
      "text/html": [
       "<div>\n",
       "<style scoped>\n",
       "    .dataframe tbody tr th:only-of-type {\n",
       "        vertical-align: middle;\n",
       "    }\n",
       "\n",
       "    .dataframe tbody tr th {\n",
       "        vertical-align: top;\n",
       "    }\n",
       "\n",
       "    .dataframe thead th {\n",
       "        text-align: right;\n",
       "    }\n",
       "</style>\n",
       "<table border=\"1\" class=\"dataframe\">\n",
       "  <thead>\n",
       "    <tr style=\"text-align: right;\">\n",
       "      <th></th>\n",
       "      <th>Scenery</th>\n",
       "      <th>Properties</th>\n",
       "    </tr>\n",
       "  </thead>\n",
       "  <tbody>\n",
       "    <tr>\n",
       "      <th>0</th>\n",
       "      <td>Trees</td>\n",
       "      <td>Land</td>\n",
       "    </tr>\n",
       "    <tr>\n",
       "      <th>1</th>\n",
       "      <td>Rivers</td>\n",
       "      <td>Water</td>\n",
       "    </tr>\n",
       "    <tr>\n",
       "      <th>2</th>\n",
       "      <td>Mountains</td>\n",
       "      <td>Huge</td>\n",
       "    </tr>\n",
       "    <tr>\n",
       "      <th>3</th>\n",
       "      <td>Sky</td>\n",
       "      <td>Blue</td>\n",
       "    </tr>\n",
       "    <tr>\n",
       "      <th>4</th>\n",
       "      <td>Forest</td>\n",
       "      <td>Green</td>\n",
       "    </tr>\n",
       "  </tbody>\n",
       "</table>\n",
       "</div>"
      ],
      "text/plain": [
       "     Scenery Properties\n",
       "0      Trees       Land\n",
       "1     Rivers      Water\n",
       "2  Mountains       Huge\n",
       "3        Sky       Blue\n",
       "4     Forest      Green"
      ]
     },
     "execution_count": 22,
     "metadata": {},
     "output_type": "execute_result"
    }
   ],
   "source": [
    "df"
   ]
  },
  {
   "cell_type": "code",
   "execution_count": 23,
   "id": "0ba285f4-4888-4cbf-883d-bea419bab654",
   "metadata": {},
   "outputs": [],
   "source": [
    "#Renaming properties to type"
   ]
  },
  {
   "cell_type": "code",
   "execution_count": 27,
   "id": "125e9664-46a2-48aa-8dcf-5469cf5e2c54",
   "metadata": {},
   "outputs": [],
   "source": [
    "df = df.rename(columns ={\"Properties\" : \"Type\"})"
   ]
  },
  {
   "cell_type": "code",
   "execution_count": 25,
   "id": "5a2ae1bc-342a-48bf-86fc-54fa7e0efedb",
   "metadata": {},
   "outputs": [
    {
     "data": {
      "text/html": [
       "<div>\n",
       "<style scoped>\n",
       "    .dataframe tbody tr th:only-of-type {\n",
       "        vertical-align: middle;\n",
       "    }\n",
       "\n",
       "    .dataframe tbody tr th {\n",
       "        vertical-align: top;\n",
       "    }\n",
       "\n",
       "    .dataframe thead th {\n",
       "        text-align: right;\n",
       "    }\n",
       "</style>\n",
       "<table border=\"1\" class=\"dataframe\">\n",
       "  <thead>\n",
       "    <tr style=\"text-align: right;\">\n",
       "      <th></th>\n",
       "      <th>Scenery</th>\n",
       "      <th>Type</th>\n",
       "    </tr>\n",
       "  </thead>\n",
       "  <tbody>\n",
       "    <tr>\n",
       "      <th>0</th>\n",
       "      <td>Trees</td>\n",
       "      <td>Land</td>\n",
       "    </tr>\n",
       "    <tr>\n",
       "      <th>1</th>\n",
       "      <td>Rivers</td>\n",
       "      <td>Water</td>\n",
       "    </tr>\n",
       "    <tr>\n",
       "      <th>2</th>\n",
       "      <td>Mountains</td>\n",
       "      <td>Huge</td>\n",
       "    </tr>\n",
       "    <tr>\n",
       "      <th>3</th>\n",
       "      <td>Sky</td>\n",
       "      <td>Blue</td>\n",
       "    </tr>\n",
       "    <tr>\n",
       "      <th>4</th>\n",
       "      <td>Forest</td>\n",
       "      <td>Green</td>\n",
       "    </tr>\n",
       "  </tbody>\n",
       "</table>\n",
       "</div>"
      ],
      "text/plain": [
       "     Scenery   Type\n",
       "0      Trees   Land\n",
       "1     Rivers  Water\n",
       "2  Mountains   Huge\n",
       "3        Sky   Blue\n",
       "4     Forest  Green"
      ]
     },
     "execution_count": 25,
     "metadata": {},
     "output_type": "execute_result"
    }
   ],
   "source": [
    "df"
   ]
  },
  {
   "cell_type": "code",
   "execution_count": 28,
   "id": "4bb9c50f-bba5-491e-bb95-4e54b26ffc37",
   "metadata": {},
   "outputs": [],
   "source": [
    "!git add ."
   ]
  },
  {
   "cell_type": "code",
   "execution_count": 29,
   "id": "ba27dc3b-b207-4fb5-983d-f03bc4c16052",
   "metadata": {},
   "outputs": [
    {
     "name": "stdout",
     "output_type": "stream",
     "text": [
      "[main 337765f] list columns rename\n",
      " 3 files changed, 1398 insertions(+), 18 deletions(-)\n",
      " create mode 100644 .ipynb_checkpoints/pandas_nature-checkpoint.ipynb\n",
      " create mode 100644 pandas_nature.ipynb\n"
     ]
    }
   ],
   "source": [
    "!git commit -m \"list columns rename\""
   ]
  },
  {
   "cell_type": "code",
   "execution_count": 30,
   "id": "d3de0cd3-04c8-42a0-a114-0af6a6e87db7",
   "metadata": {},
   "outputs": [
    {
     "name": "stdout",
     "output_type": "stream",
     "text": [
      "Enumerating objects: 8, done.\n",
      "Counting objects: 100% (8/8), done.\n",
      "Delta compression using up to 8 threads\n",
      "Compressing objects: 100% (5/5), done.\n",
      "Writing objects: 100% (5/5), 4.21 KiB | 1.40 MiB/s, done.\n",
      "Total 5 (delta 4), reused 0 (delta 0), pack-reused 0\n",
      "remote: Resolving deltas: 100% (4/4), completed with 3 local objects.\u001b[K\n",
      "To github.com:madhuriankara/python-basics.git\n",
      "   6fac891..337765f  main -> main\n"
     ]
    }
   ],
   "source": [
    "!git push"
   ]
  },
  {
   "cell_type": "code",
   "execution_count": null,
   "id": "7fc52c78-e615-49a2-bb68-8266d201eb84",
   "metadata": {},
   "outputs": [],
   "source": []
  }
 ],
 "metadata": {
  "kernelspec": {
   "display_name": "Python 3 (ipykernel)",
   "language": "python",
   "name": "python3"
  },
  "language_info": {
   "codemirror_mode": {
    "name": "ipython",
    "version": 3
   },
   "file_extension": ".py",
   "mimetype": "text/x-python",
   "name": "python",
   "nbconvert_exporter": "python",
   "pygments_lexer": "ipython3",
   "version": "3.12.7"
  }
 },
 "nbformat": 4,
 "nbformat_minor": 5
}
