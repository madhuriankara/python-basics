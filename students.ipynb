{
 "cells": [
  {
   "cell_type": "code",
   "execution_count": 2,
   "id": "bb573d0a-e535-43ea-8864-fb594213fdef",
   "metadata": {},
   "outputs": [],
   "source": [
    "students_data = {\n",
    "    \"Name\" : [\"Keerthi\",\"Madhuri\", \"Shreyas\" ,\"Bob\", \"Alice\"],\n",
    "    \"Email\" : [\"Kee@gmail.com\",\"madhuri@gmail.com\",\"shreyas@gmail.com\",\"bob@gmail.com\",\"alice@gmail.com\"]\n",
    "}"
   ]
  },
  {
   "cell_type": "code",
   "execution_count": 3,
   "id": "bc614f23-1609-4b34-864d-478b3308c105",
   "metadata": {},
   "outputs": [
    {
     "data": {
      "text/plain": [
       "{'Name': ['Keerthi', 'Madhuri', 'Shreyas', 'Bob', 'Alice'],\n",
       " 'Email': ['Kee@gmail.com',\n",
       "  'madhuri@gmail.com',\n",
       "  'shreyas@gmail.com',\n",
       "  'bob@gmail.com',\n",
       "  'alice@gmail.com']}"
      ]
     },
     "execution_count": 3,
     "metadata": {},
     "output_type": "execute_result"
    }
   ],
   "source": [
    "students_data"
   ]
  },
  {
   "cell_type": "code",
   "execution_count": 4,
   "id": "b0328437-f7f1-4230-b382-081cc2b6062b",
   "metadata": {},
   "outputs": [],
   "source": [
    "import pandas as pd"
   ]
  },
  {
   "cell_type": "code",
   "execution_count": 5,
   "id": "bde9b577-b892-4d5a-a874-38f34781e4d1",
   "metadata": {},
   "outputs": [],
   "source": [
    "df = pd.DataFrame(students_data)"
   ]
  },
  {
   "cell_type": "code",
   "execution_count": 6,
   "id": "cd5aab70-770a-4fdb-a152-ae8c4de889b7",
   "metadata": {},
   "outputs": [
    {
     "data": {
      "text/html": [
       "<div>\n",
       "<style scoped>\n",
       "    .dataframe tbody tr th:only-of-type {\n",
       "        vertical-align: middle;\n",
       "    }\n",
       "\n",
       "    .dataframe tbody tr th {\n",
       "        vertical-align: top;\n",
       "    }\n",
       "\n",
       "    .dataframe thead th {\n",
       "        text-align: right;\n",
       "    }\n",
       "</style>\n",
       "<table border=\"1\" class=\"dataframe\">\n",
       "  <thead>\n",
       "    <tr style=\"text-align: right;\">\n",
       "      <th></th>\n",
       "      <th>Name</th>\n",
       "      <th>Email</th>\n",
       "    </tr>\n",
       "  </thead>\n",
       "  <tbody>\n",
       "    <tr>\n",
       "      <th>0</th>\n",
       "      <td>Keerthi</td>\n",
       "      <td>Kee@gmail.com</td>\n",
       "    </tr>\n",
       "    <tr>\n",
       "      <th>1</th>\n",
       "      <td>Madhuri</td>\n",
       "      <td>madhuri@gmail.com</td>\n",
       "    </tr>\n",
       "    <tr>\n",
       "      <th>2</th>\n",
       "      <td>Shreyas</td>\n",
       "      <td>shreyas@gmail.com</td>\n",
       "    </tr>\n",
       "    <tr>\n",
       "      <th>3</th>\n",
       "      <td>Bob</td>\n",
       "      <td>bob@gmail.com</td>\n",
       "    </tr>\n",
       "    <tr>\n",
       "      <th>4</th>\n",
       "      <td>Alice</td>\n",
       "      <td>alice@gmail.com</td>\n",
       "    </tr>\n",
       "  </tbody>\n",
       "</table>\n",
       "</div>"
      ],
      "text/plain": [
       "      Name              Email\n",
       "0  Keerthi      Kee@gmail.com\n",
       "1  Madhuri  madhuri@gmail.com\n",
       "2  Shreyas  shreyas@gmail.com\n",
       "3      Bob      bob@gmail.com\n",
       "4    Alice    alice@gmail.com"
      ]
     },
     "execution_count": 6,
     "metadata": {},
     "output_type": "execute_result"
    }
   ],
   "source": [
    "df"
   ]
  },
  {
   "cell_type": "code",
   "execution_count": 11,
   "id": "d4a763f0-27d7-4ab1-a36f-c52f4c1cad9f",
   "metadata": {},
   "outputs": [],
   "source": [
    "df[\"student_id\"] = [111,222,333,444,555]"
   ]
  },
  {
   "cell_type": "code",
   "execution_count": 12,
   "id": "57941b35-b07e-4898-a9ac-b7d494ad8dfc",
   "metadata": {},
   "outputs": [
    {
     "data": {
      "text/html": [
       "<div>\n",
       "<style scoped>\n",
       "    .dataframe tbody tr th:only-of-type {\n",
       "        vertical-align: middle;\n",
       "    }\n",
       "\n",
       "    .dataframe tbody tr th {\n",
       "        vertical-align: top;\n",
       "    }\n",
       "\n",
       "    .dataframe thead th {\n",
       "        text-align: right;\n",
       "    }\n",
       "</style>\n",
       "<table border=\"1\" class=\"dataframe\">\n",
       "  <thead>\n",
       "    <tr style=\"text-align: right;\">\n",
       "      <th></th>\n",
       "      <th>Name</th>\n",
       "      <th>Email</th>\n",
       "      <th>student_id</th>\n",
       "    </tr>\n",
       "  </thead>\n",
       "  <tbody>\n",
       "    <tr>\n",
       "      <th>0</th>\n",
       "      <td>Keerthi</td>\n",
       "      <td>Kee@gmail.com</td>\n",
       "      <td>111</td>\n",
       "    </tr>\n",
       "    <tr>\n",
       "      <th>1</th>\n",
       "      <td>Madhuri</td>\n",
       "      <td>madhuri@gmail.com</td>\n",
       "      <td>222</td>\n",
       "    </tr>\n",
       "    <tr>\n",
       "      <th>2</th>\n",
       "      <td>Shreyas</td>\n",
       "      <td>shreyas@gmail.com</td>\n",
       "      <td>333</td>\n",
       "    </tr>\n",
       "    <tr>\n",
       "      <th>3</th>\n",
       "      <td>Bob</td>\n",
       "      <td>bob@gmail.com</td>\n",
       "      <td>444</td>\n",
       "    </tr>\n",
       "    <tr>\n",
       "      <th>4</th>\n",
       "      <td>Alice</td>\n",
       "      <td>alice@gmail.com</td>\n",
       "      <td>555</td>\n",
       "    </tr>\n",
       "  </tbody>\n",
       "</table>\n",
       "</div>"
      ],
      "text/plain": [
       "      Name              Email  student_id\n",
       "0  Keerthi      Kee@gmail.com         111\n",
       "1  Madhuri  madhuri@gmail.com         222\n",
       "2  Shreyas  shreyas@gmail.com         333\n",
       "3      Bob      bob@gmail.com         444\n",
       "4    Alice    alice@gmail.com         555"
      ]
     },
     "execution_count": 12,
     "metadata": {},
     "output_type": "execute_result"
    }
   ],
   "source": [
    "df"
   ]
  },
  {
   "cell_type": "code",
   "execution_count": 13,
   "id": "10f451d8-d304-44c0-8f29-e6e7d9aa1da5",
   "metadata": {},
   "outputs": [],
   "source": [
    "additional_data = {\n",
    "    \"Name\" : [ \"Charlie\", \"Pav\"],\n",
    "    \"Email\" :[\"charlie@gmail.com\" , \"pavs@gmail.com\"],\n",
    "    \"student_id\" : [666,777]\n",
    "}"
   ]
  },
  {
   "cell_type": "code",
   "execution_count": 14,
   "id": "4d096800-3ef0-4423-9a42-708f45b5568b",
   "metadata": {},
   "outputs": [],
   "source": [
    "df_additional_data = pd.DataFrame(additional_data)"
   ]
  },
  {
   "cell_type": "code",
   "execution_count": 18,
   "id": "4bb5077d-48f2-45ff-b849-bae14af153d3",
   "metadata": {},
   "outputs": [],
   "source": [
    "combined_students_df = pd.concat([df, df_additional_data], ignore_index=True, sort=False)"
   ]
  },
  {
   "cell_type": "code",
   "execution_count": 19,
   "id": "f8354605-9b1a-43ed-93f8-23754b1454d9",
   "metadata": {},
   "outputs": [
    {
     "data": {
      "text/html": [
       "<div>\n",
       "<style scoped>\n",
       "    .dataframe tbody tr th:only-of-type {\n",
       "        vertical-align: middle;\n",
       "    }\n",
       "\n",
       "    .dataframe tbody tr th {\n",
       "        vertical-align: top;\n",
       "    }\n",
       "\n",
       "    .dataframe thead th {\n",
       "        text-align: right;\n",
       "    }\n",
       "</style>\n",
       "<table border=\"1\" class=\"dataframe\">\n",
       "  <thead>\n",
       "    <tr style=\"text-align: right;\">\n",
       "      <th></th>\n",
       "      <th>Name</th>\n",
       "      <th>Email</th>\n",
       "      <th>student_id</th>\n",
       "    </tr>\n",
       "  </thead>\n",
       "  <tbody>\n",
       "    <tr>\n",
       "      <th>0</th>\n",
       "      <td>Keerthi</td>\n",
       "      <td>Kee@gmail.com</td>\n",
       "      <td>111</td>\n",
       "    </tr>\n",
       "    <tr>\n",
       "      <th>1</th>\n",
       "      <td>Madhuri</td>\n",
       "      <td>madhuri@gmail.com</td>\n",
       "      <td>222</td>\n",
       "    </tr>\n",
       "    <tr>\n",
       "      <th>2</th>\n",
       "      <td>Shreyas</td>\n",
       "      <td>shreyas@gmail.com</td>\n",
       "      <td>333</td>\n",
       "    </tr>\n",
       "    <tr>\n",
       "      <th>3</th>\n",
       "      <td>Bob</td>\n",
       "      <td>bob@gmail.com</td>\n",
       "      <td>444</td>\n",
       "    </tr>\n",
       "    <tr>\n",
       "      <th>4</th>\n",
       "      <td>Alice</td>\n",
       "      <td>alice@gmail.com</td>\n",
       "      <td>555</td>\n",
       "    </tr>\n",
       "    <tr>\n",
       "      <th>5</th>\n",
       "      <td>Charlie</td>\n",
       "      <td>charlie@gmail.com</td>\n",
       "      <td>666</td>\n",
       "    </tr>\n",
       "    <tr>\n",
       "      <th>6</th>\n",
       "      <td>Pav</td>\n",
       "      <td>pavs@gmail.com</td>\n",
       "      <td>777</td>\n",
       "    </tr>\n",
       "  </tbody>\n",
       "</table>\n",
       "</div>"
      ],
      "text/plain": [
       "      Name              Email  student_id\n",
       "0  Keerthi      Kee@gmail.com         111\n",
       "1  Madhuri  madhuri@gmail.com         222\n",
       "2  Shreyas  shreyas@gmail.com         333\n",
       "3      Bob      bob@gmail.com         444\n",
       "4    Alice    alice@gmail.com         555\n",
       "5  Charlie  charlie@gmail.com         666\n",
       "6      Pav     pavs@gmail.com         777"
      ]
     },
     "execution_count": 19,
     "metadata": {},
     "output_type": "execute_result"
    }
   ],
   "source": [
    "combined_students_df"
   ]
  },
  {
   "cell_type": "code",
   "execution_count": 20,
   "id": "ad05001e-9373-4a3a-90d2-8919dd2659f2",
   "metadata": {},
   "outputs": [],
   "source": [
    "new_data = {\n",
    "    \"Name\" : [\"Maya\"],\n",
    "    \"Email\" : [\"maya@gmail.com\"]\n",
    "}"
   ]
  },
  {
   "cell_type": "code",
   "execution_count": 21,
   "id": "1ddb40fc-796c-4f90-9e25-c7156c4d72b8",
   "metadata": {},
   "outputs": [],
   "source": [
    "df_new_data = pd.DataFrame(new_data)"
   ]
  },
  {
   "cell_type": "code",
   "execution_count": 23,
   "id": "5eb08d58-21ac-4ff0-b436-9614013c44f7",
   "metadata": {},
   "outputs": [],
   "source": [
    "overall_data_df = pd.concat([combined_students_df, df_new_data], ignore_index =True, sort=False)"
   ]
  },
  {
   "cell_type": "code",
   "execution_count": 24,
   "id": "55daf271-5f35-4acc-9b2f-f3d97abd5028",
   "metadata": {},
   "outputs": [
    {
     "data": {
      "text/html": [
       "<div>\n",
       "<style scoped>\n",
       "    .dataframe tbody tr th:only-of-type {\n",
       "        vertical-align: middle;\n",
       "    }\n",
       "\n",
       "    .dataframe tbody tr th {\n",
       "        vertical-align: top;\n",
       "    }\n",
       "\n",
       "    .dataframe thead th {\n",
       "        text-align: right;\n",
       "    }\n",
       "</style>\n",
       "<table border=\"1\" class=\"dataframe\">\n",
       "  <thead>\n",
       "    <tr style=\"text-align: right;\">\n",
       "      <th></th>\n",
       "      <th>Name</th>\n",
       "      <th>Email</th>\n",
       "      <th>student_id</th>\n",
       "    </tr>\n",
       "  </thead>\n",
       "  <tbody>\n",
       "    <tr>\n",
       "      <th>0</th>\n",
       "      <td>Keerthi</td>\n",
       "      <td>Kee@gmail.com</td>\n",
       "      <td>111.0</td>\n",
       "    </tr>\n",
       "    <tr>\n",
       "      <th>1</th>\n",
       "      <td>Madhuri</td>\n",
       "      <td>madhuri@gmail.com</td>\n",
       "      <td>222.0</td>\n",
       "    </tr>\n",
       "    <tr>\n",
       "      <th>2</th>\n",
       "      <td>Shreyas</td>\n",
       "      <td>shreyas@gmail.com</td>\n",
       "      <td>333.0</td>\n",
       "    </tr>\n",
       "    <tr>\n",
       "      <th>3</th>\n",
       "      <td>Bob</td>\n",
       "      <td>bob@gmail.com</td>\n",
       "      <td>444.0</td>\n",
       "    </tr>\n",
       "    <tr>\n",
       "      <th>4</th>\n",
       "      <td>Alice</td>\n",
       "      <td>alice@gmail.com</td>\n",
       "      <td>555.0</td>\n",
       "    </tr>\n",
       "    <tr>\n",
       "      <th>5</th>\n",
       "      <td>Charlie</td>\n",
       "      <td>charlie@gmail.com</td>\n",
       "      <td>666.0</td>\n",
       "    </tr>\n",
       "    <tr>\n",
       "      <th>6</th>\n",
       "      <td>Pav</td>\n",
       "      <td>pavs@gmail.com</td>\n",
       "      <td>777.0</td>\n",
       "    </tr>\n",
       "    <tr>\n",
       "      <th>7</th>\n",
       "      <td>Maya</td>\n",
       "      <td>maya@gmail.com</td>\n",
       "      <td>NaN</td>\n",
       "    </tr>\n",
       "  </tbody>\n",
       "</table>\n",
       "</div>"
      ],
      "text/plain": [
       "      Name              Email  student_id\n",
       "0  Keerthi      Kee@gmail.com       111.0\n",
       "1  Madhuri  madhuri@gmail.com       222.0\n",
       "2  Shreyas  shreyas@gmail.com       333.0\n",
       "3      Bob      bob@gmail.com       444.0\n",
       "4    Alice    alice@gmail.com       555.0\n",
       "5  Charlie  charlie@gmail.com       666.0\n",
       "6      Pav     pavs@gmail.com       777.0\n",
       "7     Maya     maya@gmail.com         NaN"
      ]
     },
     "execution_count": 24,
     "metadata": {},
     "output_type": "execute_result"
    }
   ],
   "source": [
    "overall_data_df"
   ]
  },
  {
   "cell_type": "code",
   "execution_count": null,
   "id": "045bb070-0f6c-4efa-b6cf-82c3af78aaf8",
   "metadata": {},
   "outputs": [],
   "source": []
  }
 ],
 "metadata": {
  "kernelspec": {
   "display_name": "Python 3 (ipykernel)",
   "language": "python",
   "name": "python3"
  },
  "language_info": {
   "codemirror_mode": {
    "name": "ipython",
    "version": 3
   },
   "file_extension": ".py",
   "mimetype": "text/x-python",
   "name": "python",
   "nbconvert_exporter": "python",
   "pygments_lexer": "ipython3",
   "version": "3.12.7"
  }
 },
 "nbformat": 4,
 "nbformat_minor": 5
}
